{
 "cells": [
  {
   "cell_type": "markdown",
   "metadata": {},
   "source": [
    "# Prospect demo: Visual inspection (VI) of DESI spectra within a notebook  \n",
    "\n",
    "Works at NERSC, using DESI master kernel (includes prospect and bokeh). Updated July 2021.\n",
    "\n",
    "- To create standalone VI pages (html files), run the script `prospect_pages` in command line (examples are in prospect/bin/examples_prospect_pages.sh)\n",
    "- To inspect a list of TARGETIDs within a notebook, see the companion notebook `Prospect_targetid.ipynb`"
   ]
  },
  {
   "cell_type": "code",
   "execution_count": 1,
   "metadata": {},
   "outputs": [],
   "source": [
    "import os, sys\n",
    "import numpy as np\n",
    "from astropy.table import Table\n",
    "import desispec\n",
    "\n",
    "# If not using the desiconda version of prospect: EDIT THIS to your path\n",
    "#sys.path.insert(0,\"/global/homes/X/XXXXX/prospect/py\") \n",
    "from prospect import viewer, utilities"
   ]
  },
  {
   "cell_type": "markdown",
   "metadata": {},
   "source": [
    "#### Prepare a set of spectra (`desispec.Spectra` objects)\n",
    "Use filtering criteria at will.\n",
    "<br>Prepare associated `astropy.table.Table` objects from zbest.fits and redrock.h5 files."
   ]
  },
  {
   "cell_type": "code",
   "execution_count": 2,
   "metadata": {},
   "outputs": [
    {
     "name": "stdout",
     "output_type": "stream",
     "text": [
      "INFO:spectra.py:261:read_spectra: iotime 0.662 sec to read coadd-7-80610-thru20210208.fits at 2021-07-02T08:12:12.263983\n"
     ]
    },
    {
     "name": "stderr",
     "output_type": "stream",
     "text": [
      "INFO:desiutil.log.dlm58.info:iotime 0.662 sec to read coadd-7-80610-thru20210208.fits at 2021-07-02T08:12:12.263983\n"
     ]
    },
    {
     "name": "stdout",
     "output_type": "stream",
     "text": [
      "500 spectra in file\n"
     ]
    }
   ],
   "source": [
    "# DESI-SV1 data: tile 80610 (ELG targets) in COSMOS, let's use denali data release\n",
    "datadir = os.environ['DESI_SPECTRO_REDUX']+'/denali/tiles/cumulative/80610/20210208'\n",
    "allcoadds = desispec.io.read_spectra(datadir+'/coadd-7-80610-thru20210208.fits')\n",
    "allzbest = Table.read(datadir+'/zbest-7-80610-thru20210208.fits', 'ZBEST')\n",
    "print(allcoadds.num_spectra(),\"spectra in file\")"
   ]
  },
  {
   "cell_type": "code",
   "execution_count": 3,
   "metadata": {},
   "outputs": [
    {
     "name": "stdout",
     "output_type": "stream",
     "text": [
      "29 spectra selected\n"
     ]
    }
   ],
   "source": [
    "# Select a subsample to be 'VIed':\n",
    "zbest_select = allzbest[(allzbest[\"Z\"]>1.3)&(allzbest[\"Z\"]<1.5)&(allzbest[\"DELTACHI2\"]>100)]\n",
    "targets = zbest_select[\"TARGETID\"]\n",
    "coadds_select = allcoadds.select(targets=targets) # this is a desispec.spectra function\n",
    "print(coadds_select.num_spectra(),\"spectra selected\")"
   ]
  },
  {
   "cell_type": "code",
   "execution_count": 4,
   "metadata": {},
   "outputs": [
    {
     "name": "stdout",
     "output_type": "stream",
     "text": [
      "True\n"
     ]
    }
   ],
   "source": [
    "# Get full Redrock outputs (to get Nth best fits), matched to the former selection\n",
    "redrockfile = datadir+'/redrock-7-80610-thru20210208.h5'\n",
    "redrock_select = utilities.match_redrockfile_to_spectra(redrockfile, coadds_select)\n",
    "# check 'redrock' and 'zbest' files are consistent:\n",
    "print(np.array_equal(redrock_select['CHI2'][:,0], zbest_select['CHI2']))"
   ]
  },
  {
   "cell_type": "markdown",
   "metadata": {},
   "source": [
    "#### VI tool\n",
    "\n",
    "Tip: DO NOT load too many spectra into the viewer as it might overload your web browser (standard VI sets are made of 50 spectra).\n",
    "\n",
    "Many options are available in `viewer.plotspectra`, here are some probably most useful:\n",
    "- notebook=True is mandatory (otherwise will write an html file to disk at NERSC)\n",
    "- mask_type (eg. 'SV2_SCND_TARGET', 'DESI_TARGET' is default) is important to display correctly the targeting masks for each spectrum.\n",
    "- top_metadata: choose which metadata from spectra.fibermaps to highlight on the top panel"
   ]
  },
  {
   "cell_type": "code",
   "execution_count": null,
   "metadata": {},
   "outputs": [],
   "source": [
    "# Run this cell to have the VI tool !\n",
    "viewer.plotspectra(coadds_select, zcatalog=zbest_select, redrock_cat=redrock_select,\n",
    "                   notebook=True, title='Prospect demo: ELG tile in SV1-COSMOS', \n",
    "                   mask_type='SV1_DESI_TARGET')"
   ]
  },
  {
   "cell_type": "code",
   "execution_count": 5,
   "metadata": {},
   "outputs": [
    {
     "name": "stdout",
     "output_type": "stream",
     "text": [
      "Help on function plotspectra in module prospect.viewer:\n",
      "\n",
      "plotspectra(spectra, zcatalog=None, redrock_cat=None, notebook=False, html_dir=None, title=None, with_imaging=True, with_noise=True, with_thumb_tab=True, with_vi_widgets=True, top_metadata=None, vi_countdown=-1, with_thumb_only_page=False, with_coaddcam=True, mask_type='DESI_TARGET', model_from_zcat=True, model=None, num_approx_fits=None, with_full_2ndfit=True, template_dir=None, archetype_fit=False, archetypes_dir=None)\n",
      "    Main prospect routine. From a set of spectra, creates a bokeh document\n",
      "    used for VI, to be displayed as an HTML page or within a Jupyter notebook.\n",
      "    \n",
      "    Parameters\n",
      "    ----------\n",
      "    spectra : :class:`~desispec.spectra.Spectra` or :class:`~specutils.Spectrum1D` or :class:`~specutils.SpectrumList` or list of :class:`~desispec.frame.Frame`\n",
      "        Input spectra. :class:`~specutils.Spectrum1D` are assumed to be SDSS/BOSS/eBOSS.\n",
      "        Otherwise DESI spectra or frames is assumed.\n",
      "    zcatalog : :class:`~astropy.table.Table`, optional\n",
      "        Redshift values, matched one-to-one with the input spectra.\n",
      "    redrock_cat : :class:`~astropy.table.Table`, optional\n",
      "        Redrock output (as defined in :func:`~prospect.utilities.match_redrock_zfit_to_spectra`).\n",
      "        Entries must be matched one-by-one (in order) to spectra.\n",
      "    notebook : :class:`bool`, optional\n",
      "        If ``True``, bokeh outputs the viewer to a Jupyter notebook.\n",
      "    html_dir : :class:`str`, optional\n",
      "        Directory to store the HTML page if `notebook` is ``False``.\n",
      "    title : :class:`str`, optional\n",
      "        Title used to name the HTML page / the bokeh figure / the VI file.\n",
      "    with_imaging : :class:`bool`, optional\n",
      "        If ``False``, don't include thumb image from https://www.legacysurvey.org/viewer.\n",
      "    with_noise : :class:`bool`, optional\n",
      "        If ``False``, don't include uncertainty for each spectrum.\n",
      "    with_thumb_tab : :class:`bool`, optional\n",
      "        If ``False``, don't include a tab with spectra thumbnails.\n",
      "    with_vi_widgets : :class:`bool`, optional\n",
      "        Include widgets used to enter VI information. Set it to ``False`` if\n",
      "        you do not intend to record VI files.\n",
      "    top_metadata : :class:`list`, optional\n",
      "        List of metadata to be highlighted in the top (most visible) table.\n",
      "        Default values ['TARGETID', 'EXPID']\n",
      "    vi_countdown : :class:`int`, optional\n",
      "        If ``>0``, add a countdown widget in the VI panel, with a value in minutes given\n",
      "        by `vi_countdown``.\n",
      "    with_thumb_only_page : :class:`bool`, optional\n",
      "        When creating a static HTML (`notebook` is ``False``), a light HTML\n",
      "        page including only the thumb gallery will also be produced.\n",
      "    with_coaddcam : :class:`bool`, optional\n",
      "        Include camera-coaddition, only relevant for DESI.\n",
      "    mask_type : :class:`str`, optional (default: DESI_TARGET)\n",
      "        Bitmask type to identify target categories in the spectra.\n",
      "        Supported types are in `..utilities.supported_desitarget_masks`\n",
      "    model_from_zcat : :class:`bool`, optional\n",
      "        If ``True``, model spectra will be computed from the input `zcatalog`.\n",
      "    model : :func:`tuple`, optional\n",
      "        If set, use this input set of model spectra instead of computing it from `zcatalog`.\n",
      "        model consists of (mwave, mflux); model must be entry-matched to `zcatalog`.\n",
      "    num_approx_fits : :class:`int`, optional\n",
      "        Number of best-fit models to display, if `redrock_cat` is provided.\n",
      "        By default, all best-fit models available in `redrock_cat` are diplayed.\n",
      "    with_full_2ndfit : :class:`bool`, optional\n",
      "        If ``True``, the second best-fit model from `redrock_cat` will be displayed\n",
      "        without approximation (no undersampling, full resolution).\n",
      "    template_dir : :class:`str`, optional\n",
      "        Redrock template directory.\n",
      "    archetype_fit : :class:`bool`, optional\n",
      "        If ``True``, assume `zcatalog` derived from :command:`redrock --archetypes`\n",
      "        and plot model accordingly.\n",
      "    archetypes_dir : :class:`str`, optional\n",
      "        Directory path for archetypes if not :envvar:`RR_ARCHETYPE_DIR`.\n",
      "\n"
     ]
    }
   ],
   "source": [
    "# Full help on this function:\n",
    "help(viewer.plotspectra)"
   ]
  },
  {
   "cell_type": "code",
   "execution_count": null,
   "metadata": {},
   "outputs": [],
   "source": []
  }
 ],
 "metadata": {
  "kernelspec": {
   "display_name": "DESI master",
   "language": "python",
   "name": "desi-master"
  },
  "language_info": {
   "codemirror_mode": {
    "name": "ipython",
    "version": 3
   },
   "file_extension": ".py",
   "mimetype": "text/x-python",
   "name": "python",
   "nbconvert_exporter": "python",
   "pygments_lexer": "ipython3",
   "version": "3.8.3"
  },
  "widgets": {
   "application/vnd.jupyter.widget-state+json": {
    "state": {},
    "version_major": 2,
    "version_minor": 0
   }
  }
 },
 "nbformat": 4,
 "nbformat_minor": 4
}
