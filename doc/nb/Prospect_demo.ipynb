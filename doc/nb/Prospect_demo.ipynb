{
 "cells": [
  {
   "cell_type": "markdown",
   "metadata": {},
   "source": [
    "# Prospect VI tool demo with a notebook  \n",
    "\n",
    "Works at nersc, with master desi environment, which includes prospect (and bokeh 2.1.1)\n",
    "\n",
    "Simple prospect demo, based on a nightly coadd file from MiniSV2 (andes release)"
   ]
  },
  {
   "cell_type": "code",
   "execution_count": 1,
   "metadata": {},
   "outputs": [],
   "source": [
    "import os, sys\n",
    "import numpy as np\n",
    "from astropy.table import Table\n",
    "from pathlib import Path\n",
    "import desispec\n",
    "\n",
    "# Uncomment this line to use a specific version of prospect\n",
    "sys.path.insert(0,\"/global/homes/a/armengau/prospect/py\")\n",
    "from prospect import viewer,plotframes"
   ]
  },
  {
   "cell_type": "code",
   "execution_count": 2,
   "metadata": {},
   "outputs": [],
   "source": [
    "# Path to the directory where files are saved\n",
    "data_path = Path(os.environ['DESI_SPECTRO_REDUX']+\"/andes/tiles/70003/20200228\")"
   ]
  },
  {
   "cell_type": "code",
   "execution_count": 3,
   "metadata": {},
   "outputs": [
    {
     "name": "stdout",
     "output_type": "stream",
     "text": [
      "INFO:spectra.py:253:read_spectra: iotime 0.991 sec to read coadd-3-70003-20200228.fits at 2021-02-09T12:44:03.833097\n"
     ]
    },
    {
     "name": "stderr",
     "output_type": "stream",
     "text": [
      "INFO:desiutil.log.dlm58.info:iotime 0.991 sec to read coadd-3-70003-20200228.fits at 2021-02-09T12:44:03.833097\n"
     ]
    },
    {
     "name": "stdout",
     "output_type": "stream",
     "text": [
      "500 spectra in file\n"
     ]
    }
   ],
   "source": [
    "# Read a coadd file + associated summary of redrock outputs\n",
    "allcoadds = desispec.io.read_spectra(data_path/\"coadd-3-70003-20200228.fits\")\n",
    "allzbest = Table.read(data_path/\"zbest-3-70003-20200228.fits\",'ZBEST')\n",
    "print(allcoadds.num_spectra(),\"spectra in file\")"
   ]
  },
  {
   "cell_type": "code",
   "execution_count": 4,
   "metadata": {},
   "outputs": [
    {
     "name": "stdout",
     "output_type": "stream",
     "text": [
      "31 spectra selected\n"
     ]
    }
   ],
   "source": [
    "# Select a subsample of spectra to be visually inspected:\n",
    "zbest_select = allzbest[(allzbest[\"Z\"]>0.6)&(allzbest[\"Z\"]<1)&(allzbest[\"DELTACHI2\"]<50)]\n",
    "targets = zbest_select[\"TARGETID\"]\n",
    "coadds_select = allcoadds.select(targets=targets)\n",
    "print(coadds_select.num_spectra(),\"spectra selected\")"
   ]
  },
  {
   "cell_type": "markdown",
   "metadata": {},
   "source": [
    "#### Spectral viewer\n",
    "DO NOT load too many spectra into the viewer as it might overload your web browser (VI sets are currently made of 50 spectra)."
   ]
  },
  {
   "cell_type": "code",
   "execution_count": 5,
   "metadata": {},
   "outputs": [
    {
     "name": "stdout",
     "output_type": "stream",
     "text": [
      "Help on function plotspectra in module prospect.viewer:\n",
      "\n",
      "plotspectra(spectra, zcatalog=None, redrock_cat=None, notebook=False, html_dir=None, title=None, with_imaging=True, with_noise=True, with_thumb_tab=True, with_vi_widgets=True, vi_countdown=-1, with_thumb_only_page=False, is_coadded=True, with_coaddcam=True, mask_type='DESI_TARGET', model_from_zcat=True, model=None, num_approx_fits=None, with_full_2ndfit=True, template_dir=None, archetype_fit=False, archetypes_dir=None)\n",
      "    Main prospect routine. From a set of spectra, creates a bokeh document\n",
      "    used for VI, to be displayed as an HTML page or within a Jupyter notebook.\n",
      "    \n",
      "    Parameters\n",
      "    ----------\n",
      "    spectra : :class:`~desispec.spectra.Spectra` or :class:`~specutils.Spectrum1D` or :class:`~specutils.SpectrumList` or list of :class:`~desispec.frame.Frame`\n",
      "        Input spectra. :class:`~specutils.Spectrum1D` are assumed to be SDSS/BOSS/eBOSS.\n",
      "        Otherwise DESI spectra or frames is assumed.\n",
      "    zcatalog : :class:`~astropy.table.Table`, optional\n",
      "        Redshift values, matched one-to-one with the input spectra.\n",
      "    redrock_cat : :class:`~astropy.table.Table`, optional\n",
      "        Redrock output (as defined in :func:`~prospect.utilities.match_redrock_zfit_to_spectra`).\n",
      "        Entries must be matched one-by-one (in order) to spectra.\n",
      "    notebook : :class:`bool`, optional\n",
      "        If ``True``, bokeh outputs the viewer to a Jupyter notebook.\n",
      "    html_dir : :class:`str`, optional\n",
      "        Directory to store the HTML page if `notebook` is ``False``.\n",
      "    title : :class:`str`, optional\n",
      "        Title used to name the HTML page / the bokeh figure / the VI file.\n",
      "    with_imaging : :class:`bool`, optional\n",
      "        If ``False``, don't include thumb image from https://www.legacysurvey.org/viewer.\n",
      "    with_noise : :class:`bool`, optional\n",
      "        If ``False``, don't include uncertainty for each spectrum.\n",
      "    with_thumb_tab : :class:`bool`, optional\n",
      "        If ``False``, don't include a tab with spectra thumbnails.\n",
      "    with_vi_widgets : :class:`bool`, optional\n",
      "        Include widgets used to enter VI information. Set it to ``False`` if\n",
      "        you do not intend to record VI files.\n",
      "    vi_countdown : :class:`int`, optional\n",
      "        If ``>0``, add a countdown widget in the VI panel, with a value in minutes given\n",
      "        by `vi_countdown``.\n",
      "    with_thumb_only_page : :class:`bool`, optional\n",
      "        When creating a static HTML (`notebook` is ``False``), a light HTML\n",
      "        page including only the thumb gallery will also be produced.\n",
      "    is_coadded : :class:`bool`, optional\n",
      "        Set to ``True`` if `spectra` are coadds.  This will always be assumed\n",
      "        for SDSS-style inputs, but not for DESI inputs.\n",
      "    with_coaddcam : :class:`bool`, optional\n",
      "        Include camera-coaddition, only relevant for DESI.\n",
      "    mask_type : :class:`str`, optional (default: DESI_TARGET)\n",
      "        Bitmask type to identify target categories in the spectra. For DESI\n",
      "        these could be: DESI_TARGET, SV1_DESI_TARGET, SV1_BGS_TARGET, CMX_TARGET.\n",
      "    model_from_zcat : :class:`bool`, optional\n",
      "        If ``True``, model spectra will be computed from the input `zcatalog`.\n",
      "    model : :func:`tuple`, optional\n",
      "        If set, use this input set of model spectra instead of computing it from `zcatalog`.\n",
      "        model consists of (mwave, mflux); model must be entry-matched to `zcatalog`.\n",
      "    num_approx_fits : :class:`int`, optional\n",
      "        Number of best-fit models to display, if `redrock_cat` is provided.\n",
      "        By default, all best-fit models available in `redrock_cat` are diplayed.\n",
      "    with_full_2ndfit : :class:`bool`, optional\n",
      "        If ``True``, the second best-fit model from `redrock_cat` will be displayed\n",
      "        without approximation (no undersampling, full resolution).\n",
      "    template_dir : :class:`str`, optional\n",
      "        Redrock template directory.\n",
      "    archetype_fit : :class:`bool`, optional\n",
      "        If ``True``, assume `zcatalog` derived from :command:`redrock --archetypes`\n",
      "        and plot model accordingly.\n",
      "    archetypes_dir : :class:`str`, optional\n",
      "        Directory path for archetypes if not :envvar:`RR_ARCHETYPE_DIR`.\n",
      "\n"
     ]
    }
   ],
   "source": [
    "help(viewer.plotspectra)"
   ]
  },
  {
   "cell_type": "code",
   "execution_count": null,
   "metadata": {},
   "outputs": [],
   "source": [
    "viewer.plotspectra(coadds_select, zcatalog=zbest_select, notebook=True, \n",
    "                       title='Prospect_demo', \n",
    "                       mask_type='CMX_TARGET')"
   ]
  }
 ],
 "metadata": {
  "kernelspec": {
   "display_name": "DESI master",
   "language": "python",
   "name": "desi-master"
  },
  "language_info": {
   "codemirror_mode": {
    "name": "ipython",
    "version": 3
   },
   "file_extension": ".py",
   "mimetype": "text/x-python",
   "name": "python",
   "nbconvert_exporter": "python",
   "pygments_lexer": "ipython3",
   "version": "3.8.3"
  },
  "widgets": {
   "application/vnd.jupyter.widget-state+json": {
    "state": {},
    "version_major": 2,
    "version_minor": 0
   }
  }
 },
 "nbformat": 4,
 "nbformat_minor": 4
}
