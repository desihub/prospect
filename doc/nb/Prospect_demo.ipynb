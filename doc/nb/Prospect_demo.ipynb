{
 "cells": [
  {
   "cell_type": "markdown",
   "metadata": {},
   "source": [
    "# Prospect demo: Visual inspection (VI) of DESI spectra within a notebook  \n",
    "\n",
    "Works at NERSC, using DESI master kernel (includes prospect and bokeh). Updated July 2021.\n",
    "\n",
    "- To create standalone VI pages (html files), run the script `prospect_pages` in command line (examples are in prospect/bin/examples_prospect_pages.sh)\n",
    "- To inspect a list of TARGETIDs within a notebook, see the companion notebook `Prospect_targetid.ipynb`"
   ]
  },
  {
   "cell_type": "code",
   "execution_count": null,
   "metadata": {},
   "outputs": [],
   "source": [
    "import os, sys\n",
    "import numpy as np\n",
    "from astropy.table import Table\n",
    "import desispec\n",
    "\n",
    "# If not using the desiconda version of prospect: EDIT THIS to your path\n",
    "sys.path.insert(0, os.path.join(os.environ['HOME'], 'Documents', 'Code', 'git', 'desihub', 'prospect', 'py'))\n",
    "from prospect import viewer, utilities"
   ]
  },
  {
   "cell_type": "markdown",
   "metadata": {},
   "source": [
    "#### Prepare a set of spectra (`desispec.Spectra` objects)\n",
    "Use filtering criteria at will.\n",
    "<br>Prepare associated `astropy.table.Table` objects from zbest.fits and redrock.h5 files."
   ]
  },
  {
   "cell_type": "code",
   "execution_count": null,
   "metadata": {},
   "outputs": [],
   "source": [
    "# DESI-SV1 data: tile 80610 (ELG targets) in COSMOS, let's use fuji/EDR data release\n",
    "specprod = os.environ['SPECPROD'] = 'fuji'\n",
    "datadir = os.path.join(os.environ['DESI_SPECTRO_REDUX'], specprod, 'tiles', 'cumulative', '80610', '20210208')\n",
    "allcoadds = desispec.io.read_spectra(os.path.join(datadir, 'coadd-7-80610-thru20210208.fits'))\n",
    "allzbest = Table.read(os.path.join(datadir, 'redrock-7-80610-thru20210208.fits'), hdu='REDSHIFTS')\n",
    "print(allcoadds.num_spectra(),\"spectra in file\")"
   ]
  },
  {
   "cell_type": "code",
   "execution_count": null,
   "metadata": {},
   "outputs": [],
   "source": [
    "# Select a subsample to be 'VIed':\n",
    "zbest_select = allzbest[(allzbest[\"Z\"]>1.3)&(allzbest[\"Z\"]<1.5)&(allzbest[\"DELTACHI2\"]>100)]\n",
    "targets = zbest_select[\"TARGETID\"]\n",
    "coadds_select = allcoadds.select(targets=targets) # this is a desispec.spectra function\n",
    "print(coadds_select.num_spectra(),\"spectra selected\")"
   ]
  },
  {
   "cell_type": "code",
   "execution_count": null,
   "metadata": {},
   "outputs": [],
   "source": [
    "# Get full Redrock outputs (to get Nth best fits), matched to the former selection\n",
    "redrockfile = os.path.join(datadir, 'rrdetails-7-80610-thru20210208.h5')\n",
    "redrock_select = utilities.match_rrdetails_to_spectra(redrockfile, coadds_select)\n",
    "# check 'redrock' and 'zbest' files are consistent:\n",
    "print(np.array_equal(redrock_select['CHI2'][:,0], zbest_select['CHI2']))"
   ]
  },
  {
   "cell_type": "markdown",
   "metadata": {},
   "source": [
    "#### VI tool\n",
    "\n",
    "Tip: DO NOT load too many spectra into the viewer as it might overload your web browser (standard VI sets are made of 50 spectra).\n",
    "\n",
    "Many options are available in `viewer.plotspectra`, here are some probably most useful:\n",
    "- notebook=True is mandatory (otherwise will write an html file to disk at NERSC)\n",
    "- mask_type (eg. 'SV2_SCND_TARGET', 'DESI_TARGET' is default) is important to display correctly the targeting masks for each spectrum.\n",
    "- top_metadata: choose which metadata from spectra.fibermaps to highlight on the top panel"
   ]
  },
  {
   "cell_type": "code",
   "execution_count": null,
   "metadata": {},
   "outputs": [],
   "source": [
    "# Run this cell to have the VI tool !\n",
    "viewer.plotspectra(coadds_select, zcatalog=zbest_select, redrock_cat=redrock_select,\n",
    "                   notebook=True, title='Prospect demo: ELG tile in SV1-COSMOS', \n",
    "                   mask_type='SV1_DESI_TARGET')"
   ]
  },
  {
   "cell_type": "code",
   "execution_count": null,
   "metadata": {},
   "outputs": [],
   "source": [
    "# Full help on this function:\n",
    "help(viewer.plotspectra)"
   ]
  },
  {
   "cell_type": "code",
   "execution_count": null,
   "metadata": {},
   "outputs": [],
   "source": []
  }
 ],
 "metadata": {
  "kernelspec": {
   "display_name": "DESI 22.5",
   "language": "python",
   "name": "desi-22.5"
  },
  "language_info": {
   "codemirror_mode": {
    "name": "ipython",
    "version": 3
   },
   "file_extension": ".py",
   "mimetype": "text/x-python",
   "name": "python",
   "nbconvert_exporter": "python",
   "pygments_lexer": "ipython3",
   "version": "3.9.7"
  },
  "widgets": {
   "application/vnd.jupyter.widget-state+json": {
    "state": {},
    "version_major": 2,
    "version_minor": 0
   }
  }
 },
 "nbformat": 4,
 "nbformat_minor": 4
}
