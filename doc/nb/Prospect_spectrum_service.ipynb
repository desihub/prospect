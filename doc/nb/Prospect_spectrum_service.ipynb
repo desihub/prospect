{
 "cells": [
  {
   "cell_type": "markdown",
   "metadata": {},
   "source": [
    "# Prospect + specutils + SPARCL\n",
    "\n",
    "Project: Obtain SDSS spectra using the NOIRLab SPARCL spectrum service, convert data to specutils objects as needed, and use Prospect to display the data."
   ]
  },
  {
   "cell_type": "code",
   "execution_count": 2,
   "metadata": {},
   "outputs": [
    {
     "name": "stdout",
     "output_type": "stream",
     "text": [
      "specutils==1.9.1\n",
      "prospect==1.2.5.dev503\n",
      "sparcl==1.0.0\n"
     ]
    }
   ],
   "source": [
    "import os\n",
    "import sys\n",
    "sys.path.insert(0, os.path.join(os.environ['HOME'], 'Documents', 'Code', 'git', 'desihub', 'prospect', 'py'))\n",
    "import numpy as np\n",
    "import astropy.units as u\n",
    "from astropy.table import Table\n",
    "from astropy.nddata import InverseVariance\n",
    "from specutils import __version__ as specutils_version, Spectrum1D, SpectrumCollection, SpectrumList\n",
    "# from prospect.specutils import read_spPlate, read_spZbest\n",
    "from prospect import __version__ as prospect_version\n",
    "from prospect.viewer import plotspectra\n",
    "from sparcl import __version__ as sparcl_version\n",
    "import sparcl.client\n",
    "from dl import queryClient as qc, storeClient as sc, specClient as spec\n",
    "print(f\"specutils=={specutils_version}\")\n",
    "print(f\"prospect=={prospect_version}\")\n",
    "print(f\"sparcl=={sparcl_version}\")"
   ]
  },
  {
   "cell_type": "code",
   "execution_count": 3,
   "metadata": {},
   "outputs": [
    {
     "data": {
      "text/plain": [
       "(sparclclient:1.0.0, api:8.0, https://sparclstage.datalab.noirlab.edu/sparc, verbose=False, connect_timeout=1.1, read_timeout=5400.0)"
      ]
     },
     "execution_count": 3,
     "metadata": {},
     "output_type": "execute_result"
    }
   ],
   "source": [
    "client = sparcl.client.SparclClient(url='https://sparclstage.datalab.noirlab.edu') # using the STAGE machine\n",
    "client"
   ]
  },
  {
   "cell_type": "code",
   "execution_count": null,
   "metadata": {},
   "outputs": [],
   "source": [
    "qc.set_profile('db01')"
   ]
  },
  {
   "cell_type": "code",
   "execution_count": 10,
   "metadata": {},
   "outputs": [
    {
     "data": {
      "text/plain": [
       "[\"'DESI-EDR', '000001ce-1432-4e38-9609-2b579a01f079', 165.061429, 83.098389, 0.813519\",\n",
       " \"'DESI-EDR', '000025d7-d443-47d4-8b86-96eb5a6ecc42', 186.170259, 45.660747, 0.558836\",\n",
       " \"'DESI-EDR', '00003a53-dba4-4e7e-ba20-33d1d0fa8cbc', 240.298043, 14.166304, 0.886934\",\n",
       " \"'DESI-EDR', '00007875-1c56-4f84-9680-9acc886a4748', 166.646747, 72.216338, 0.548366\",\n",
       " \"'DESI-EDR', '0000a1f4-c8a8-4fc1-b291-e935d459e711', 267.219213, 65.499536, 0.702347\",\n",
       " \"'DESI-EDR', '0001045b-f9bc-4a51-ba26-057e922abe28', 29.373732, 5.974278, 0.777364\",\n",
       " \"'DESI-EDR', '0001988d-2285-4ec6-a11b-868253a91ca5', 217.196861, 51.246553, 0.709187\",\n",
       " \"'DESI-EDR', '00019d35-8acd-42da-b839-9e8fa414b492', 216.990033, 53.931815, 0.761380\",\n",
       " \"'DESI-EDR', '00019ee5-60ba-47d4-a438-2e29747312b5', 243.476104, 56.216303, 0.502890\",\n",
       " \"'DESI-EDR', '0001b225-310a-44dd-be5d-5a190eadd103', 178.962949, 0.376801, 0.800818\",\n",
       " \"'DESI-EDR', '000207e8-fcc8-4bc4-8dde-24a8d60a5817', 124.955631, 33.764301, 0.543643\",\n",
       " \"'DESI-EDR', '00020844-cbac-4332-b598-eac741da2328', 218.516499, 2.656314, 0.647615\",\n",
       " \"'DESI-EDR', '000231f7-00bb-4a54-960f-9b14e18e393c', 217.468454, 52.293347, 0.608116\",\n",
       " \"'DESI-EDR', '000238f3-19e2-4b75-b2ea-83417e832908', 188.813570, 60.638301, 0.626150\",\n",
       " \"'DESI-EDR', '00023ac5-b42a-4afd-9530-8cec4e153028', 173.470676, 55.697437, 0.525261\",\n",
       " \"'DESI-EDR', '00024f7a-edd9-4e1d-893c-c19d55398bfe', 246.312991, 43.415264, 0.656385\",\n",
       " \"'DESI-EDR', '00025ff2-7271-460e-ad9e-c5dcb5133c48', 184.243124, 0.162246, 0.667702\",\n",
       " \"'DESI-EDR', '0002aa2b-0792-4301-850c-9e7f415442e7', 243.732317, 43.162114, 0.689322\",\n",
       " \"'DESI-EDR', '000345b2-e358-4c85-8c45-8264d2bd42db', 210.029360, 5.701647, 0.881292\",\n",
       " \"'DESI-EDR', '00036725-16ec-48e0-b09a-db92600c236f', 220.531994, -1.916104, 0.786391\",\n",
       " \"'DESI-EDR', '0003792b-8132-4f6e-a8d2-d9c486d63e83', 213.730198, -0.004551, 0.837694\",\n",
       " \"'DESI-EDR', '00037c91-1585-4833-b6dd-b44c85a5a371', 188.079226, 58.422167, 0.804043\",\n",
       " \"'DESI-EDR', '0003af1a-caad-4c02-b933-a03ccb38f9ec', 219.495234, 34.470648, 0.878366\",\n",
       " \"'DESI-EDR', '0003ec80-ea3a-4277-ad4d-549d188d9cc1', 114.753902, 19.496672, 0.507495\",\n",
       " \"'DESI-EDR', '00042a0d-24c8-46a7-8b15-ef45f172ac85', 218.381258, 33.741838, 0.697956\",\n",
       " \"'DESI-EDR', '00044153-4b19-412a-bd5e-5f69ce421fe3', 190.993334, 60.558611, 0.787186\",\n",
       " \"'DESI-EDR', '00049371-1b25-4b03-af7f-75131acffe56', 178.939550, -0.977481, 0.788656\",\n",
       " \"'DESI-EDR', '0004bb1e-794e-40cc-a9d4-2455bd632990', 181.998619, -0.716309, 0.767760\",\n",
       " \"'DESI-EDR', '0004e861-9c75-4d8c-930c-9cf58a763940', 271.176315, 66.756675, 0.865959\",\n",
       " \"'DESI-EDR', '0005583a-a7f0-4115-857e-4c9b9bb59462', 240.235801, 42.814627, 0.851085\",\n",
       " \"'DESI-EDR', '00055b70-8cbf-447b-a587-a5a41343ef6c', 217.618858, 35.603635, 0.802540\",\n",
       " \"'DESI-EDR', '00055d57-e6cd-4d78-a252-82c52665b927', 218.142772, -0.731278, 0.526246\",\n",
       " \"'DESI-EDR', '0005c756-0814-489c-8773-166fa99cd6a9', 192.960233, 30.898576, 0.817895\",\n",
       " \"'DESI-EDR', '0005e76b-6956-4c29-ab4b-964943dc8204', 239.510592, 43.281378, 0.800466\",\n",
       " \"'DESI-EDR', '00066d6c-1868-46db-a98c-265d49914116', 182.546799, 0.012519, 0.567219\",\n",
       " \"'DESI-EDR', '0006ac20-0fc6-4fea-8fd7-11ccea406e43', 224.622007, -5.999438, 0.791138\",\n",
       " \"'DESI-EDR', '0006b77e-c53c-464e-88e7-2e66b9a34fc0', 251.229890, 35.106486, 0.887662\",\n",
       " \"'DESI-EDR', '0006f82f-9630-4ef3-b50c-21d7a34eadbd', 143.802015, 63.937001, 0.813195\",\n",
       " \"'DESI-EDR', '0006fae8-44c0-49ca-abdf-1aa724fe7894', 220.793452, 0.335596, 0.534675\",\n",
       " \"'DESI-EDR', '0006fba5-f7a3-4c8b-9350-20a95b132d0b', 252.111961, 33.325489, 0.614271\",\n",
       " \"'DESI-EDR', '00070c91-0b21-4c98-b1d3-84dec8fa921f', 194.998505, 31.880627, 0.633456\",\n",
       " \"'DESI-EDR', '00071f70-0835-465a-ac42-e35c7af19a1f', 269.678890, 64.711601, 0.720590\",\n",
       " \"'DESI-EDR', '00075553-c943-4762-9438-ee1d8601e2fe', 216.620148, 52.513353, 0.737844\",\n",
       " \"'DESI-EDR', '0007896c-a4c9-43d6-a322-daa1a3f35be6', 191.689132, 62.743164, 0.508000\",\n",
       " \"'DESI-EDR', '000793aa-51ad-44d7-bae6-4fa076778754', 149.285485, 2.945918, 0.744431\",\n",
       " \"'DESI-EDR', '000801c2-3f28-4c0d-b79f-339e0a9210f8', 193.218154, 24.090036, 0.773704\",\n",
       " \"'DESI-EDR', '000877ba-c3e2-4bf9-b7d6-66aaebee36f6', 191.363381, 61.507993, 0.761794\",\n",
       " \"'DESI-EDR', '00087a5a-7fc9-4b79-95d3-3c26f1980f7b', 214.446333, 52.914670, 0.532280\",\n",
       " \"'DESI-EDR', '00089f45-16ba-40b8-a357-94b3dfb69795', 149.117903, 0.963673, 0.867872\",\n",
       " \"'DESI-EDR', '0008f271-9ad8-435f-8ca8-ea017605f881', 179.158377, -0.958683, 0.559985\"]"
      ]
     },
     "execution_count": 10,
     "metadata": {},
     "output_type": "execute_result"
    }
   ],
   "source": [
    "outfields = ['sparcl_id', 'ra', 'dec', 'redshift', 'spectype', 'data_release', 'redshift_err']\n",
    "constraints = {'spectype': ['GALAXY'],\n",
    "              'redshift': [0.5, 0.9],\n",
    "              'data_release': ['DESI-EDR']}\n",
    "desi_galaxies = client.find(outfields=outfields, constraints=constraints, limit=50)\n",
    "[\"'{data_release}', '{sparcl_id}', {ra:f}, {dec:f}, {redshift:f}\".format(**f) for f in desi_galaxies.records]"
   ]
  },
  {
   "cell_type": "code",
   "execution_count": 13,
   "metadata": {},
   "outputs": [
    {
     "data": {
      "text/plain": [
       "{'status': {'success': True,\n",
       "  'info': [\"Successfully found 50 records in dr_list=['DESI-EDR']\"],\n",
       "  'warnings': []},\n",
       " 'Count': 50}"
      ]
     },
     "execution_count": 13,
     "metadata": {},
     "output_type": "execute_result"
    }
   ],
   "source": [
    "uuid_list = [f['sparcl_id'] for f in desi_galaxies.records]\n",
    "include = ['sparcl_id', 'specid', 'data_release', 'redshift', 'flux', 'wavelength', 'model', 'ivar', 'mask', 'spectype']\n",
    "desi_spectra = client.retrieve(uuid_list=uuid_list, include=include, dataset_list=['DESI-EDR'])\n",
    "desi_spectra.info"
   ]
  },
  {
   "cell_type": "code",
   "execution_count": 19,
   "metadata": {},
   "outputs": [],
   "source": [
    "assert all([(desi_spectra.records[k]['wavelength'] == desi_spectra.records[0]['wavelength']).all() for k in range(len(desi_spectra.records))])"
   ]
  },
  {
   "cell_type": "code",
   "execution_count": 30,
   "metadata": {},
   "outputs": [
    {
     "data": {
      "text/plain": [
       "{'data_release': 'DESI-EDR',\n",
       " 'spectype': 'GALAXY',\n",
       " 'redshift': 0.813519422288805,\n",
       " 'specid': 39633563649312398,\n",
       " 'mask': array([0, 0, 0, ..., 0, 0, 0]),\n",
       " 'ivar': array([  0.44933867,   0.56658721,   0.54383731, ...,  84.21394348,\n",
       "        120.00515747, 193.18800354]),\n",
       " 'wavelength': array([3600. , 3600.8, 3601.6, ..., 9822.4, 9823.2, 9824. ]),\n",
       " 'model': array([0.09361108, 0.1246717 , 0.12952064, ..., 0.46946484, 0.44035923,\n",
       "        0.31227323]),\n",
       " 'flux': array([ 1.0961802 , -1.68807256,  2.3059423 , ...,  0.51836067,\n",
       "         0.58768326,  0.6925379 ]),\n",
       " 'sparcl_id': '000001ce-1432-4e38-9609-2b579a01f079',\n",
       " '_dr': 'DESI-EDR'}"
      ]
     },
     "execution_count": 30,
     "metadata": {},
     "output_type": "execute_result"
    }
   ],
   "source": [
    "desi_spectra.records[0]"
   ]
  },
  {
   "cell_type": "code",
   "execution_count": 33,
   "metadata": {},
   "outputs": [
    {
     "data": {
      "text/plain": [
       "<Spectrum1D(flux=<Quantity [[ 1.09618020e-17, -1.68807256e-17,  2.30594230e-17, ...,\n",
       "             5.18360674e-18,  5.87683260e-18,  6.92537904e-18],\n",
       "           [ 2.45113373e-17, -2.09138250e-17,  1.54428601e-18, ...,\n",
       "             1.78548741e-17,  2.00291085e-17,  1.33881021e-17],\n",
       "           [-7.37097502e-17, -4.11386871e-17, -3.39210415e-17, ...,\n",
       "            -3.69320512e-18,  3.51228565e-18, -8.77717212e-19],\n",
       "           ...,\n",
       "           [ 1.67524600e-17,  2.58122540e-16,  1.40271301e-16, ...,\n",
       "             2.18142509e-17, -6.90850019e-19, -1.82365343e-18],\n",
       "           [-1.08645141e-17, -2.92329371e-18,  3.55715108e-17, ...,\n",
       "            -1.21693976e-18, -2.07465231e-18, -3.91007453e-18],\n",
       "           [-3.40203738e-17,  1.58873165e-17,  4.13492680e-17, ...,\n",
       "            -4.24592271e-19, -2.67335922e-18,  4.86461781e-19]] erg / (Angstrom cm2 s)>, spectral_axis=<SpectralAxis \n",
       "   (observer to target:\n",
       "      radial_velocity=[159991.68640988 124984.8057275  168319.57409111 ...      0.\n",
       "      0.              0.        ] km / s\n",
       "      redshift=[0.81351942 0.55883594 0.88693442 ... 0.         0.         0.        ])\n",
       "  [3600. , 3600.8, 3601.6, ..., 9822.4, 9823.2, 9824. ] Angstrom>, uncertainty=InverseVariance([[4.49338675e+33, 5.66587210e+33, 5.43837309e+33, ...,\n",
       "                  8.42139435e+35, 1.20005157e+36, 1.93188004e+36],\n",
       "                 [3.25506963e+32, 3.09113935e+32, 3.36021781e+32, ...,\n",
       "                  9.66550064e+34, 1.07049417e+35, 1.32846756e+35],\n",
       "                 [8.20946395e+32, 8.62510353e+32, 8.86012688e+32, ...,\n",
       "                  1.71593189e+35, 2.28264427e+35, 3.56184273e+35],\n",
       "                 ...,\n",
       "                 [1.89016468e+31, 1.78898452e+31, 2.02276418e+31, ...,\n",
       "                  6.40955985e+33, 8.18154216e+33, 1.33182251e+34],\n",
       "                 [1.21382043e+33, 1.30172133e+33, 1.27592832e+33, ...,\n",
       "                  4.25943527e+35, 8.25729065e+35, 1.23641205e+36],\n",
       "                 [6.93170801e+32, 9.55806226e+32, 7.72640035e+32, ...,\n",
       "                  1.74460220e+35, 2.71995239e+35, 4.97819748e+35]]))>"
      ]
     },
     "execution_count": 33,
     "metadata": {},
     "output_type": "execute_result"
    }
   ],
   "source": [
    "flux = np.zeros((len(desi_spectra.records), desi_spectra.records[0].flux.shape[0]), dtype=desi_spectra.records[0].flux.dtype)\n",
    "model = np.zeros((len(desi_spectra.records), desi_spectra.records[0].model.shape[0]), dtype=desi_spectra.records[0].model.dtype)\n",
    "uncertainty = np.zeros((len(desi_spectra.records), desi_spectra.records[0].ivar.shape[0]), dtype=desi_spectra.records[0].ivar.dtype)\n",
    "mask = np.zeros((len(desi_spectra.records), desi_spectra.records[0].flux.shape[0]), dtype=desi_spectra.records[0].mask.dtype)\n",
    "redshift = np.zeros(desi_spectra.records[0].wavelength.shape, dtype=desi_spectra.records[0].wavelength.dtype)\n",
    "specid = np.zeros(desi_spectra.records[0].wavelength.shape, dtype=np.int64)\n",
    "sparcl_id = list()\n",
    "data_release = list()\n",
    "spectype = list()\n",
    "for k in range(len(desi_spectra.records)):\n",
    "    flux[k, :] = desi_spectra.records[k].flux\n",
    "    model[k, :] = desi_spectra.records[k].model\n",
    "    uncertainty[k, :] = desi_spectra.records[k].ivar\n",
    "    mask[k, :] = desi_spectra.records[k].mask\n",
    "    redshift[k] = desi_spectra.records[k].redshift\n",
    "    specid[k] = desi_spectra.records[k].specid\n",
    "    sparcl_id.append(desi_spectra.records[k].sparcl_id)\n",
    "    data_release.append(desi_spectra.records[k].data_release)\n",
    "    spectype.append(desi_spectra.records[k].spectype)\n",
    "meta = {'model': model * 10**-17 * u.Unit('erg cm-2 s-1 AA-1'), 'specid': specid, 'sparcl_id': sparcl_id, 'data_release': data_release, 'spectype': spectype}\n",
    "desi_specutils = Spectrum1D(spectral_axis=desi_spectra.records[0].wavelength*u.AA,\n",
    "                            flux=flux * 10**-17 * u.Unit('erg cm-2 s-1 AA-1'),\n",
    "                            uncertainty=InverseVariance(uncertainty * 10**34 * u.Unit('erg-2 cm4 s2 AA2')),\n",
    "                            redshift=redshift,\n",
    "                            mask=mask,\n",
    "                            meta=meta)\n",
    "desi_specutils"
   ]
  },
  {
   "cell_type": "code",
   "execution_count": 29,
   "metadata": {},
   "outputs": [
    {
     "ename": "AttributeError",
     "evalue": "'Spectrum1D' object has no attribute 'num_spectra'",
     "output_type": "error",
     "traceback": [
      "\u001b[0;31m---------------------------------------------------------------------------\u001b[0m",
      "\u001b[0;31mAttributeError\u001b[0m                            Traceback (most recent call last)",
      "\u001b[0;32m<ipython-input-29-f1c7848cd069>\u001b[0m in \u001b[0;36m<module>\u001b[0;34m\u001b[0m\n\u001b[0;32m----> 1\u001b[0;31m \u001b[0mplotspectra\u001b[0m\u001b[0;34m(\u001b[0m\u001b[0mdesi_specutils\u001b[0m\u001b[0;34m,\u001b[0m \u001b[0mzcatalog\u001b[0m\u001b[0;34m=\u001b[0m\u001b[0;32mNone\u001b[0m\u001b[0;34m,\u001b[0m \u001b[0mredrock_cat\u001b[0m\u001b[0;34m=\u001b[0m\u001b[0;32mNone\u001b[0m\u001b[0;34m,\u001b[0m \u001b[0mnotebook\u001b[0m\u001b[0;34m=\u001b[0m\u001b[0;32mTrue\u001b[0m\u001b[0;34m)\u001b[0m\u001b[0;34m\u001b[0m\u001b[0;34m\u001b[0m\u001b[0m\n\u001b[0m",
      "\u001b[0;32m~/Documents/Code/git/desihub/prospect/py/prospect/viewer/__init__.py\u001b[0m in \u001b[0;36mplotspectra\u001b[0;34m(spectra, zcatalog, redrock_cat, notebook, html_dir, title, with_imaging, with_noise, with_thumb_tab, with_vi_widgets, top_metadata, vi_countdown, with_thumb_only_page, with_coaddcam, mask_type, model_from_zcat, model, num_approx_fits, with_full_2ndfit, template_dir, archetype_fit, archetypes_dir, std_template_file)\u001b[0m\n\u001b[1;32m    282\u001b[0m     \u001b[0mviewer_cds\u001b[0m \u001b[0;34m=\u001b[0m \u001b[0mViewerCDS\u001b[0m\u001b[0;34m(\u001b[0m\u001b[0;34m)\u001b[0m\u001b[0;34m\u001b[0m\u001b[0;34m\u001b[0m\u001b[0m\n\u001b[1;32m    283\u001b[0m     \u001b[0mviewer_cds\u001b[0m\u001b[0;34m.\u001b[0m\u001b[0mload_spectra\u001b[0m\u001b[0;34m(\u001b[0m\u001b[0mspectra\u001b[0m\u001b[0;34m,\u001b[0m \u001b[0mwith_noise\u001b[0m\u001b[0;34m)\u001b[0m\u001b[0;34m\u001b[0m\u001b[0;34m\u001b[0m\u001b[0m\n\u001b[0;32m--> 284\u001b[0;31m     \u001b[0mviewer_cds\u001b[0m\u001b[0;34m.\u001b[0m\u001b[0mcompute_median_spectra\u001b[0m\u001b[0;34m(\u001b[0m\u001b[0mspectra\u001b[0m\u001b[0;34m)\u001b[0m\u001b[0;34m\u001b[0m\u001b[0;34m\u001b[0m\u001b[0m\n\u001b[0m\u001b[1;32m    285\u001b[0m     \u001b[0;32mif\u001b[0m \u001b[0mwith_coaddcam\u001b[0m \u001b[0;34m:\u001b[0m\u001b[0;34m\u001b[0m\u001b[0;34m\u001b[0m\u001b[0m\n\u001b[1;32m    286\u001b[0m         \u001b[0mviewer_cds\u001b[0m\u001b[0;34m.\u001b[0m\u001b[0minit_coaddcam_spec\u001b[0m\u001b[0;34m(\u001b[0m\u001b[0mspectra\u001b[0m\u001b[0;34m,\u001b[0m \u001b[0mwith_noise\u001b[0m\u001b[0;34m)\u001b[0m\u001b[0;34m\u001b[0m\u001b[0;34m\u001b[0m\u001b[0m\n",
      "\u001b[0;32m~/Documents/Code/git/desihub/prospect/py/prospect/viewer/cds.py\u001b[0m in \u001b[0;36mcompute_median_spectra\u001b[0;34m(self, spectra)\u001b[0m\n\u001b[1;32m    120\u001b[0m \u001b[0;34m\u001b[0m\u001b[0m\n\u001b[1;32m    121\u001b[0m         \u001b[0mcdsdata\u001b[0m \u001b[0;34m=\u001b[0m \u001b[0mdict\u001b[0m\u001b[0;34m(\u001b[0m\u001b[0mmedian\u001b[0m\u001b[0;34m=\u001b[0m\u001b[0;34m[\u001b[0m\u001b[0;34m]\u001b[0m\u001b[0;34m)\u001b[0m\u001b[0;34m\u001b[0m\u001b[0;34m\u001b[0m\u001b[0m\n\u001b[0;32m--> 122\u001b[0;31m         \u001b[0;32mfor\u001b[0m \u001b[0mi\u001b[0m \u001b[0;32min\u001b[0m \u001b[0mrange\u001b[0m\u001b[0;34m(\u001b[0m\u001b[0mspectra\u001b[0m\u001b[0;34m.\u001b[0m\u001b[0mnum_spectra\u001b[0m\u001b[0;34m(\u001b[0m\u001b[0;34m)\u001b[0m\u001b[0;34m)\u001b[0m\u001b[0;34m:\u001b[0m\u001b[0;34m\u001b[0m\u001b[0;34m\u001b[0m\u001b[0m\n\u001b[0m\u001b[1;32m    123\u001b[0m             \u001b[0mflux_array\u001b[0m \u001b[0;34m=\u001b[0m \u001b[0mnp\u001b[0m\u001b[0;34m.\u001b[0m\u001b[0mconcatenate\u001b[0m\u001b[0;34m(\u001b[0m \u001b[0mtuple\u001b[0m\u001b[0;34m(\u001b[0m\u001b[0;34m[\u001b[0m\u001b[0mspectra\u001b[0m\u001b[0;34m.\u001b[0m\u001b[0mflux\u001b[0m\u001b[0;34m[\u001b[0m\u001b[0mband\u001b[0m\u001b[0;34m]\u001b[0m\u001b[0;34m[\u001b[0m\u001b[0mi\u001b[0m\u001b[0;34m]\u001b[0m \u001b[0;32mfor\u001b[0m \u001b[0mband\u001b[0m \u001b[0;32min\u001b[0m \u001b[0mspectra\u001b[0m\u001b[0;34m.\u001b[0m\u001b[0mbands\u001b[0m\u001b[0;34m]\u001b[0m\u001b[0;34m)\u001b[0m \u001b[0;34m)\u001b[0m\u001b[0;34m\u001b[0m\u001b[0;34m\u001b[0m\u001b[0m\n\u001b[1;32m    124\u001b[0m             \u001b[0mw\u001b[0m\u001b[0;34m,\u001b[0m \u001b[0;34m=\u001b[0m \u001b[0mnp\u001b[0m\u001b[0;34m.\u001b[0m\u001b[0mwhere\u001b[0m\u001b[0;34m(\u001b[0m \u001b[0;34m~\u001b[0m\u001b[0mnp\u001b[0m\u001b[0;34m.\u001b[0m\u001b[0misnan\u001b[0m\u001b[0;34m(\u001b[0m\u001b[0mflux_array\u001b[0m\u001b[0;34m)\u001b[0m \u001b[0;34m)\u001b[0m\u001b[0;34m\u001b[0m\u001b[0;34m\u001b[0m\u001b[0m\n",
      "\u001b[0;31mAttributeError\u001b[0m: 'Spectrum1D' object has no attribute 'num_spectra'"
     ]
    }
   ],
   "source": [
    "plotspectra(desi_specutils, zcatalog=None, redrock_cat=None, notebook=True)"
   ]
  },
  {
   "cell_type": "code",
   "execution_count": 28,
   "metadata": {},
   "outputs": [
    {
     "name": "stdout",
     "output_type": "stream",
     "text": [
      "Help on function plotspectra in module prospect.viewer:\n",
      "\n",
      "plotspectra(spectra, zcatalog=None, redrock_cat=None, notebook=False, html_dir=None, title=None, with_imaging=True, with_noise=True, with_thumb_tab=True, with_vi_widgets=True, top_metadata=None, vi_countdown=-1, with_thumb_only_page=False, with_coaddcam=True, mask_type='DESI_TARGET', model_from_zcat=True, model=None, num_approx_fits=None, with_full_2ndfit=True, template_dir=None, archetype_fit=False, archetypes_dir=None, std_template_file=None)\n",
      "    Main prospect routine. From a set of spectra, creates a bokeh document\n",
      "    used for VI, to be displayed as an HTML page or within a Jupyter notebook.\n",
      "    \n",
      "    Parameters\n",
      "    ----------\n",
      "    spectra : :class:`~desispec.spectra.Spectra` or :class:`~specutils.Spectrum1D` or :class:`~specutils.SpectrumList` or list of :class:`~desispec.frame.Frame`\n",
      "        Input spectra. :class:`~specutils.Spectrum1D` are assumed to be SDSS/BOSS/eBOSS.\n",
      "        Otherwise DESI spectra or frames is assumed.\n",
      "    zcatalog : :class:`~astropy.table.Table`, optional\n",
      "        Redshift values, matched one-to-one with the input spectra.\n",
      "    redrock_cat : :class:`~astropy.table.Table`, optional\n",
      "        Redrock output (as defined in :func:`~prospect.utilities.match_rrdetails_to_spectra`).\n",
      "        Entries must be matched one-by-one (in order) to spectra.\n",
      "    notebook : :class:`bool`, optional\n",
      "        If ``True``, bokeh outputs the viewer to a Jupyter notebook.\n",
      "    html_dir : :class:`str`, optional\n",
      "        Directory to store the HTML page if `notebook` is ``False``.\n",
      "    title : :class:`str`, optional\n",
      "        Title used to name the HTML page / the bokeh figure / the VI file.\n",
      "    with_imaging : :class:`bool`, optional\n",
      "        If ``False``, don't include thumb image from https://www.legacysurvey.org/viewer.\n",
      "    with_noise : :class:`bool`, optional\n",
      "        If ``False``, don't include uncertainty for each spectrum.\n",
      "    with_thumb_tab : :class:`bool`, optional\n",
      "        If ``False``, don't include a tab with spectra thumbnails.\n",
      "    with_vi_widgets : :class:`bool`, optional\n",
      "        Include widgets used to enter VI information. Set it to ``False`` if\n",
      "        you do not intend to record VI files.\n",
      "    top_metadata : :class:`list`, optional\n",
      "        List of metadata to be highlighted in the top (most visible) table.\n",
      "        Default values ['TARGETID', 'EXPID', 'COADD_NUMEXP', 'COADD_EXPTIME']\n",
      "    vi_countdown : :class:`int`, optional\n",
      "        If ``>0``, add a countdown widget in the VI panel, with a value in minutes given\n",
      "        by `vi_countdown``.\n",
      "    with_thumb_only_page : :class:`bool`, optional\n",
      "        When creating a static HTML (`notebook` is ``False``), a light HTML\n",
      "        page including only the thumb gallery will also be produced.\n",
      "    with_coaddcam : :class:`bool`, optional\n",
      "        Include camera-coaddition, only relevant for DESI.\n",
      "    mask_type : :class:`str`, optional (default: DESI_TARGET)\n",
      "        Bitmask type to identify target categories in the spectra.\n",
      "        Supported types are in `..utilities.supported_desitarget_masks`\n",
      "    model_from_zcat : :class:`bool`, optional\n",
      "        If ``True``, model spectra will be computed from the input `zcatalog`.\n",
      "    model : :func:`tuple`, optional\n",
      "        If set, use this input set of model spectra instead of computing it from `zcatalog`.\n",
      "        model consists of (mwave, mflux); model must be entry-matched to `zcatalog`.\n",
      "    num_approx_fits : :class:`int`, optional\n",
      "        Number of best-fit models to display, if `redrock_cat` is provided.\n",
      "        By default, all best-fit models available in `redrock_cat` are diplayed.\n",
      "    with_full_2ndfit : :class:`bool`, optional\n",
      "        If ``True``, the second best-fit model from `redrock_cat` will be displayed\n",
      "        without approximation (no undersampling, full resolution).\n",
      "    template_dir : :class:`str`, optional\n",
      "        Redrock template directory.\n",
      "    archetype_fit : :class:`bool`, optional\n",
      "        If ``True``, assume `zcatalog` derived from :command:`redrock --archetypes`\n",
      "        and plot model accordingly.\n",
      "    archetypes_dir : :class:`str`, optional\n",
      "        Directory path for archetypes if not :envvar:`RR_ARCHETYPE_DIR`.\n",
      "    std_template_file : :class:`str`, optional\n",
      "        File containing standard templates to display in viewer.\n",
      "\n"
     ]
    }
   ],
   "source": [
    "help(plotspectra)"
   ]
  },
  {
   "cell_type": "markdown",
   "metadata": {},
   "source": [
    "## SDSS/eBOSS spPlate file\n",
    "\n",
    "SDSS spectra are stored per-plate in spPlate files.  These contain 640 spectra for the original SDSS spectrograph or 1000 spectra for the BOSS/eBOSS spectrograph.  All spPlate files have a common wavelength solution, so a spPlate file can be represented by a Spectrum1D object."
   ]
  },
  {
   "cell_type": "code",
   "execution_count": null,
   "metadata": {},
   "outputs": [],
   "source": [
    "# os.environ['SPECTRO_REDUX'] = os.path.join(os.environ['HOME'], 'Documents', 'Data', 'sdss', 'dr16', 'sdss', 'spectro', 'redux')\n",
    "os.environ['SPECTRO_REDUX'] = 'sdss_dr16://' + os.path.join('sdss', 'spectro', 'redux')\n",
    "run2d = '26'\n",
    "plate = '2955'\n",
    "mjd = '54562'\n",
    "sdss_spectra = os.path.join(os.environ['SPECTRO_REDUX'], run2d, plate, f'spPlate-{plate}-{mjd}.fits')\n",
    "sdss_redshifts = os.path.join(os.environ['SPECTRO_REDUX'], run2d, plate, f'spZbest-{plate}-{mjd}.fits')\n",
    "print(sdss_spectra)\n",
    "print(sdss_redshifts)"
   ]
  },
  {
   "cell_type": "code",
   "execution_count": null,
   "metadata": {},
   "outputs": [],
   "source": [
    "run2d = 'v5_13_0'\n",
    "plate = '9599'\n",
    "mjd = '58131'\n",
    "eboss_spectra = os.path.join(os.environ['SPECTRO_REDUX'], run2d, plate, f'spPlate-{plate}-{mjd}.fits')\n",
    "eboss_redshifts = os.path.join(os.environ['SPECTRO_REDUX'], run2d, plate, run2d, f'spZbest-{plate}-{mjd}.fits')\n",
    "print(eboss_spectra)\n",
    "print(eboss_redshifts)"
   ]
  },
  {
   "cell_type": "markdown",
   "metadata": {},
   "source": [
    "## SDSS Spectra"
   ]
  },
  {
   "cell_type": "code",
   "execution_count": null,
   "metadata": {},
   "outputs": [],
   "source": [
    "%%time\n",
    "sdss = read_spPlate(sc.get(sdss_spectra, mode='fileobj'), limit=50)\n",
    "sdss"
   ]
  },
  {
   "cell_type": "code",
   "execution_count": null,
   "metadata": {},
   "outputs": [],
   "source": [
    "%%time\n",
    "# sdss_spectra_ids = spec.query(plate=plate, ...)\n",
    "# sdss = spec.getSpec(sdss_spectra_ids, fmt='spectrum1d')\n",
    "# sdss"
   ]
  },
  {
   "cell_type": "code",
   "execution_count": null,
   "metadata": {},
   "outputs": [],
   "source": [
    "sdss_z, sdss_model = read_spZbest(sc.get(sdss_redshifts, mode='fileobj'), limit=50)"
   ]
  },
  {
   "cell_type": "code",
   "execution_count": null,
   "metadata": {},
   "outputs": [],
   "source": [
    "plotspectra(sdss, zcatalog=sdss_z, model=(sdss_model.spectral_axis.value, sdss_model.flux.value),\n",
    "            notebook=True, title=os.path.basename(sdss_spectra),\n",
    "            model_from_zcat=False, with_coaddcam=False, mask_type='PRIMTARGET', with_thumb_tab=False, with_vi_widgets=False)"
   ]
  },
  {
   "cell_type": "markdown",
   "metadata": {},
   "source": [
    "## eBOSS Spectra"
   ]
  },
  {
   "cell_type": "code",
   "execution_count": null,
   "metadata": {},
   "outputs": [],
   "source": [
    "%%time\n",
    "eboss = read_spPlate(sc.get(eboss_spectra, mode='fileobj'), limit=50)\n",
    "eboss_z, eboss_model = read_spZbest(sc.get(eboss_redshifts, mode='fileobj'), limit=50)\n",
    "eboss"
   ]
  },
  {
   "cell_type": "code",
   "execution_count": null,
   "metadata": {},
   "outputs": [],
   "source": [
    "plotspectra(eboss, zcatalog=eboss_z, model=(eboss_model.spectral_axis.value, eboss_model.flux.value),\n",
    "            notebook=True, title=os.path.basename(eboss_spectra),\n",
    "            model_from_zcat=False, with_coaddcam=False, mask_type='EBOSS_TARGET1', with_thumb_tab=False, with_vi_widgets=False)"
   ]
  },
  {
   "cell_type": "code",
   "execution_count": null,
   "metadata": {},
   "outputs": [],
   "source": []
  }
 ],
 "metadata": {
  "kernelspec": {
   "display_name": "DESI 23.1",
   "language": "python",
   "name": "desi-23.1"
  },
  "language_info": {
   "codemirror_mode": {
    "name": "ipython",
    "version": 3
   },
   "file_extension": ".py",
   "mimetype": "text/x-python",
   "name": "python",
   "nbconvert_exporter": "python",
   "pygments_lexer": "ipython3",
   "version": "3.8.8"
  }
 },
 "nbformat": 4,
 "nbformat_minor": 4
}
