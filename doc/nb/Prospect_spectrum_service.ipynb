{
 "cells": [
  {
   "cell_type": "markdown",
   "metadata": {},
   "source": [
    "# Prospect + specutils + SPARCL\n",
    "\n",
    "Project: Obtain DESI EDR spectra using the [NOIRLab SPARCL spectrum service](https://astrosparcl.datalab.noirlab.edu), convert data to [specutils objects](https://specutils.readthedocs.io/en/stable/) as needed, and use [prospect](https://desi-prospect.readthedocs.io/en/latest/) to display the data.\n",
    "\n",
    "## Imports\n",
    "\n",
    "Note that we are not relying heavily on the DESI software stack."
   ]
  },
  {
   "cell_type": "code",
   "execution_count": null,
   "metadata": {},
   "outputs": [],
   "source": [
    "import os\n",
    "import sys\n",
    "# sys.path.insert(0, os.path.join(os.environ['HOME'], 'Documents', 'Code', 'git', 'desihub', 'prospect', 'py'))\n",
    "import numpy as np\n",
    "import astropy.units as u\n",
    "from astropy.table import QTable\n",
    "from specutils import __version__ as specutils_version\n",
    "from prospect import __version__ as prospect_version\n",
    "from prospect.viewer import plotspectra\n",
    "from prospect.specutils import Spectra\n",
    "from sparcl import __version__ as sparcl_version\n",
    "import sparcl.client\n",
    "from dl import version as dl_version, queryClient as qc, storeClient as sc, specClient as spec\n",
    "print(f\"astro-datalab=={dl_version}\")\n",
    "print(f\"specutils=={specutils_version}\")\n",
    "print(f\"prospect=={prospect_version}\")\n",
    "print(f\"sparcl=={sparcl_version}\")"
   ]
  },
  {
   "cell_type": "markdown",
   "metadata": {},
   "source": [
    "## Start SPARCL Client"
   ]
  },
  {
   "cell_type": "code",
   "execution_count": null,
   "metadata": {},
   "outputs": [],
   "source": [
    "client = sparcl.client.SparclClient(url='https://sparclstage.datalab.noirlab.edu') # using the STAGE machine\n",
    "client"
   ]
  },
  {
   "cell_type": "markdown",
   "metadata": {},
   "source": [
    "## Set up Data Lab database interface"
   ]
  },
  {
   "cell_type": "code",
   "execution_count": null,
   "metadata": {},
   "outputs": [],
   "source": [
    "qc.set_profile('db01')"
   ]
  },
  {
   "cell_type": "markdown",
   "metadata": {},
   "source": [
    "## Find DESI spectra\n",
    "\n",
    "SPARCL provides access to DESI spectra that have been coadded by HEALPixel.  This corresponds to entries in the `desi_edr.zpix` table."
   ]
  },
  {
   "cell_type": "code",
   "execution_count": null,
   "metadata": {},
   "outputs": [],
   "source": [
    "q = \"\"\"SELECT z.targetid, z.chi2, z.z, z.zerr, z.zwarn, z.spectype, z.subtype, z.coadd_numexp, z.coadd_exptime, z.healpix, z.deltachi2\n",
    "FROM desi_edr.zpix AS z\n",
    "WHERE z.zcat_primary AND z.survey = 'sv3' AND z.program = 'dark' AND z.spectype = 'GALAXY' AND z.z BETWEEN 0.5 AND 0.9 AND z.zwarn = 0 ORDER BY z.targetid LIMIT 50;\n",
    "\"\"\"\n",
    "result = qc.query(sql=q, fmt='table')\n",
    "result"
   ]
  },
  {
   "cell_type": "markdown",
   "metadata": {},
   "source": [
    "**QA**: Do we really have 50 unique spectra?"
   ]
  },
  {
   "cell_type": "code",
   "execution_count": null,
   "metadata": {},
   "outputs": [],
   "source": [
    "assert (np.unique(result['targetid']) == result['targetid']).all()"
   ]
  },
  {
   "cell_type": "markdown",
   "metadata": {},
   "source": [
    "## Retrieve DESI spectra\n",
    "\n",
    "With the set of `targetid` obtained above, we can directly retrieve DESI spectra."
   ]
  },
  {
   "cell_type": "code",
   "execution_count": null,
   "metadata": {},
   "outputs": [],
   "source": [
    "include = client.get_all_fields(dataset_list=['DESI-EDR'])\n",
    "spectra = client.retrieve_by_specid(result['targetid'].value.tolist(), include=include, dataset_list=['DESI-EDR'], verbose=True)\n",
    "spectra.info"
   ]
  },
  {
   "cell_type": "markdown",
   "metadata": {},
   "source": [
    "**QA**: Did we really find all of the expected spectra?"
   ]
  },
  {
   "cell_type": "code",
   "execution_count": null,
   "metadata": {},
   "outputs": [],
   "source": [
    "assert (np.array([r.targetid for r in sorted(spectra.records, key=lambda x: x.targetid)]) == result['targetid']).all()\n",
    "assert all([r.survey == 'sv3' for r in spectra.records])\n",
    "assert all([r.program == 'dark' for r in spectra.records])"
   ]
  },
  {
   "cell_type": "code",
   "execution_count": null,
   "metadata": {},
   "outputs": [],
   "source": [
    "spectra.records[0]"
   ]
  },
  {
   "cell_type": "markdown",
   "metadata": {},
   "source": [
    "## Organize metadata\n",
    "\n",
    "Prospect needs several inputs:\n",
    "\n",
    "1. An object containing spectra.  In this case we'll use [`prospect.specutils.Spectra`](https://desi-prospect.readthedocs.io/en/latest/api.html#prospect.specutils.Spectra), which inherits from [`SpectrumList`](https://specutils.readthedocs.io/en/stable/api/specutils.SpectrumList.html#specutils.SpectrumList), and is really just a [`Spectrum1D`](https://specutils.readthedocs.io/en/stable/api/specutils.Spectrum1D.html#specutils.Spectrum1D) object underneath.\n",
    "   * The object contains the usual flux, wavelength, uncertainty.\n",
    "   * In addtion a \"fibermap\" table is needed. This should be an Astropy `Table` with the expected columns.\n",
    "2. A redshift catalog. This should be an Astropy `Table` with the expected columns.\n",
    "3. A model spectrum.  The model is actually provided by SPARCL, but we need to input it separately.\n",
    "\n",
    "### Spectrum object\n",
    "\n",
    "First we assemble the components of the spectrum object"
   ]
  },
  {
   "cell_type": "code",
   "execution_count": null,
   "metadata": {},
   "outputs": [],
   "source": [
    "flux = np.zeros((len(spectra.records), spectra.records[0].flux.shape[0]), dtype=spectra.records[0].flux.dtype)\n",
    "uncertainty = np.zeros((len(spectra.records), spectra.records[0].ivar.shape[0]), dtype=spectra.records[0].ivar.dtype)\n",
    "mask = np.zeros((len(spectra.records), spectra.records[0].mask.shape[0]), dtype=spectra.records[0].mask.dtype)\n",
    "meta = {'sparcl_id': list(), 'data_release': list()}\n",
    "sparcl_id = list()\n",
    "data_release = list()\n",
    "for k in range(len(spectra.records)):\n",
    "    flux[k, :] = spectra.records[k].flux\n",
    "    uncertainty[k, :] = spectra.records[k].ivar\n",
    "    mask[k, :] = spectra.records[k].mask\n",
    "    meta['sparcl_id'].append(spectra.records[k].sparcl_id)\n",
    "    meta['data_release'].append(spectra.records[k].data_release)"
   ]
  },
  {
   "cell_type": "markdown",
   "metadata": {},
   "source": [
    "And the \"fibermap\" table. We'll start with photometric quantities."
   ]
  },
  {
   "cell_type": "code",
   "execution_count": null,
   "metadata": {},
   "outputs": [],
   "source": [
    "columns = ('targetid', 'ra', 'dec', 'ref_epoch', 'pmra', 'pmdec', 'ebv', 'flux_g', 'flux_r', 'flux_z', 'flux_w1', 'flux_w2')\n",
    "q = \"\"\"SELECT {0}\n",
    "FROM desi_edr.photometry\n",
    "WHERE targetid IN ({1}) ORDER BY targetid;\n",
    "\"\"\".format(', '.join(columns), ', '.join([str(t) for t in result['targetid'].value.tolist()]))\n",
    "fibermap = qc.query(sql=q, fmt='table')\n",
    "for col in fibermap.colnames:\n",
    "    if col == 'ra' or col == 'dec':\n",
    "        fibermap.rename_column(col, 'TARGET_' + col.upper())\n",
    "    else:\n",
    "        fibermap.rename_column(col, col.upper())"
   ]
  },
  {
   "cell_type": "markdown",
   "metadata": {},
   "source": [
    "**QA**: Did we find photometry for every `targetid`?"
   ]
  },
  {
   "cell_type": "code",
   "execution_count": null,
   "metadata": {},
   "outputs": [],
   "source": [
    "assert (fibermap['TARGETID'] == result['targetid']).all()"
   ]
  },
  {
   "cell_type": "markdown",
   "metadata": {},
   "source": [
    "Next we add targeting bitmasks."
   ]
  },
  {
   "cell_type": "code",
   "execution_count": null,
   "metadata": {},
   "outputs": [],
   "source": [
    "columns = ('targetid', 'sv3_desi_target', 'sv3_bgs_target', 'sv3_mws_target', 'sv3_scnd_target')\n",
    "q = \"\"\"SELECT DISTINCT {0}\n",
    "FROM desi_edr.target\n",
    "WHERE targetid IN ({1}) ORDER BY targetid;\n",
    "\"\"\".format(', '.join(columns), ', '.join([str(t) for t in fibermap['TARGETID'].value.tolist()]))\n",
    "targeting = qc.query(sql=q, fmt='table')\n",
    "for col in targeting.colnames:\n",
    "    targeting.rename_column(col, col.upper())"
   ]
  },
  {
   "cell_type": "markdown",
   "metadata": {},
   "source": [
    "**QA**: Did we find targeting for every `targetid`?"
   ]
  },
  {
   "cell_type": "code",
   "execution_count": null,
   "metadata": {},
   "outputs": [],
   "source": [
    "assert (targeting['TARGETID'] == fibermap['TARGETID']).all()"
   ]
  },
  {
   "cell_type": "markdown",
   "metadata": {},
   "source": [
    "Add columns into `fibermap`."
   ]
  },
  {
   "cell_type": "code",
   "execution_count": null,
   "metadata": {},
   "outputs": [],
   "source": [
    "for col in ('SV3_DESI_TARGET', 'SV3_BGS_TARGET', 'SV3_MWS_TARGET', 'SV3_SCND_TARGET'):\n",
    "    fibermap.add_column(targeting[col])\n",
    "fibermap"
   ]
  },
  {
   "cell_type": "markdown",
   "metadata": {},
   "source": [
    "Finally assemble the object."
   ]
  },
  {
   "cell_type": "code",
   "execution_count": null,
   "metadata": {},
   "outputs": [],
   "source": [
    "prospect_spectra = Spectra(bands=['coadd'],\n",
    "                           wave={'coadd': spectra.records[0].wavelength},\n",
    "                           flux={'coadd': flux},\n",
    "                           ivar={'coadd': uncertainty},\n",
    "                           mask={'coadd': mask},\n",
    "                           fibermap=fibermap,\n",
    "                           meta={'coadd': meta})"
   ]
  },
  {
   "cell_type": "markdown",
   "metadata": {},
   "source": [
    "### Redshift catalog\n",
    "\n",
    "We can re-use the initial query above; it was deliberately constructed."
   ]
  },
  {
   "cell_type": "code",
   "execution_count": null,
   "metadata": {},
   "outputs": [],
   "source": [
    "zcatalog = result.copy()\n",
    "for col in zcatalog.colnames:\n",
    "    if col == 'healpix':\n",
    "        zcatalog.rename_column(col, 'HPXPIXEL')\n",
    "    else:\n",
    "        zcatalog.rename_column(col, col.upper())\n",
    "zcatalog"
   ]
  },
  {
   "cell_type": "markdown",
   "metadata": {},
   "source": [
    "### Model spectra\n",
    "\n",
    "Prospect expects a model in the form of a tuple containing wavelength and flux. Since SPARCL provides the model, this is easy.  There are other ways to specify the model, but these require more access to the DESI software stack *and* data *files*."
   ]
  },
  {
   "cell_type": "code",
   "execution_count": null,
   "metadata": {},
   "outputs": [],
   "source": [
    "model_flux = np.zeros((len(spectra.records), spectra.records[0].model.shape[0]), dtype=spectra.records[0].model.dtype)\n",
    "for k in range(len(spectra.records)):\n",
    "        model_flux[k, :] = spectra.records[k].model\n",
    "model = (spectra.records[0].wavelength, model_flux)"
   ]
  },
  {
   "cell_type": "markdown",
   "metadata": {},
   "source": [
    "## Start prospect\n",
    "\n",
    "With everything assembled, the interface to prospect is just a single call."
   ]
  },
  {
   "cell_type": "code",
   "execution_count": null,
   "metadata": {},
   "outputs": [],
   "source": [
    "plotspectra(prospect_spectra, zcatalog=zcatalog, redrock_cat=None, notebook=True, with_thumb_tab=False, with_vi_widgets=False, with_coaddcam=False, mask_type='SV3_DESI_TARGET',\n",
    "            model_from_zcat=False, model=model)"
   ]
  },
  {
   "cell_type": "markdown",
   "metadata": {},
   "source": [
    "## TODO: Also display SDSS/BOSS/eBOSS spectra obtained from SPARCL\n",
    "\n",
    "Old stuff below this point."
   ]
  },
  {
   "cell_type": "markdown",
   "metadata": {},
   "source": [
    "## SDSS/eBOSS spPlate file\n",
    "\n",
    "SDSS spectra are stored per-plate in spPlate files.  These contain 640 spectra for the original SDSS spectrograph or 1000 spectra for the BOSS/eBOSS spectrograph.  All spPlate files have a common wavelength solution, so a spPlate file can be represented by a Spectrum1D object."
   ]
  },
  {
   "cell_type": "code",
   "execution_count": null,
   "metadata": {},
   "outputs": [],
   "source": [
    "# os.environ['SPECTRO_REDUX'] = os.path.join(os.environ['HOME'], 'Documents', 'Data', 'sdss', 'dr16', 'sdss', 'spectro', 'redux')\n",
    "os.environ['SPECTRO_REDUX'] = 'sdss_dr16://' + os.path.join('sdss', 'spectro', 'redux')\n",
    "run2d = '26'\n",
    "plate = '2955'\n",
    "mjd = '54562'\n",
    "sdss_spectra = os.path.join(os.environ['SPECTRO_REDUX'], run2d, plate, f'spPlate-{plate}-{mjd}.fits')\n",
    "sdss_redshifts = os.path.join(os.environ['SPECTRO_REDUX'], run2d, plate, f'spZbest-{plate}-{mjd}.fits')\n",
    "print(sdss_spectra)\n",
    "print(sdss_redshifts)"
   ]
  },
  {
   "cell_type": "code",
   "execution_count": null,
   "metadata": {},
   "outputs": [],
   "source": [
    "run2d = 'v5_13_0'\n",
    "plate = '9599'\n",
    "mjd = '58131'\n",
    "eboss_spectra = os.path.join(os.environ['SPECTRO_REDUX'], run2d, plate, f'spPlate-{plate}-{mjd}.fits')\n",
    "eboss_redshifts = os.path.join(os.environ['SPECTRO_REDUX'], run2d, plate, run2d, f'spZbest-{plate}-{mjd}.fits')\n",
    "print(eboss_spectra)\n",
    "print(eboss_redshifts)"
   ]
  },
  {
   "cell_type": "markdown",
   "metadata": {},
   "source": [
    "## SDSS Spectra"
   ]
  },
  {
   "cell_type": "code",
   "execution_count": null,
   "metadata": {},
   "outputs": [],
   "source": [
    "%%time\n",
    "sdss = read_spPlate(sc.get(sdss_spectra, mode='fileobj'), limit=50)\n",
    "sdss"
   ]
  },
  {
   "cell_type": "code",
   "execution_count": null,
   "metadata": {},
   "outputs": [],
   "source": [
    "%%time\n",
    "# sdss_spectra_ids = spec.query(plate=plate, ...)\n",
    "# sdss = spec.getSpec(sdss_spectra_ids, fmt='spectrum1d')\n",
    "# sdss"
   ]
  },
  {
   "cell_type": "code",
   "execution_count": null,
   "metadata": {},
   "outputs": [],
   "source": [
    "sdss_z, sdss_model = read_spZbest(sc.get(sdss_redshifts, mode='fileobj'), limit=50)"
   ]
  },
  {
   "cell_type": "code",
   "execution_count": null,
   "metadata": {},
   "outputs": [],
   "source": [
    "plotspectra(sdss, zcatalog=sdss_z, model=(sdss_model.spectral_axis.value, sdss_model.flux.value),\n",
    "            notebook=True, title=os.path.basename(sdss_spectra),\n",
    "            model_from_zcat=False, with_coaddcam=False, mask_type='PRIMTARGET', with_thumb_tab=False, with_vi_widgets=False)"
   ]
  },
  {
   "cell_type": "markdown",
   "metadata": {},
   "source": [
    "## eBOSS Spectra"
   ]
  },
  {
   "cell_type": "code",
   "execution_count": null,
   "metadata": {},
   "outputs": [],
   "source": [
    "%%time\n",
    "eboss = read_spPlate(sc.get(eboss_spectra, mode='fileobj'), limit=50)\n",
    "eboss_z, eboss_model = read_spZbest(sc.get(eboss_redshifts, mode='fileobj'), limit=50)\n",
    "eboss"
   ]
  },
  {
   "cell_type": "code",
   "execution_count": null,
   "metadata": {},
   "outputs": [],
   "source": [
    "plotspectra(eboss, zcatalog=eboss_z, model=(eboss_model.spectral_axis.value, eboss_model.flux.value),\n",
    "            notebook=True, title=os.path.basename(eboss_spectra),\n",
    "            model_from_zcat=False, with_coaddcam=False, mask_type='EBOSS_TARGET1', with_thumb_tab=False, with_vi_widgets=False)"
   ]
  },
  {
   "cell_type": "code",
   "execution_count": null,
   "metadata": {},
   "outputs": [],
   "source": []
  }
 ],
 "metadata": {
  "kernelspec": {
   "display_name": "DESI main",
   "language": "python",
   "name": "desi-main"
  },
  "language_info": {
   "codemirror_mode": {
    "name": "ipython",
    "version": 3
   },
   "file_extension": ".py",
   "mimetype": "text/x-python",
   "name": "python",
   "nbconvert_exporter": "python",
   "pygments_lexer": "ipython3",
   "version": "3.9.16"
  }
 },
 "nbformat": 4,
 "nbformat_minor": 4
}
