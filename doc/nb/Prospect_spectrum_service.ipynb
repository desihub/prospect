{
 "cells": [
  {
   "cell_type": "markdown",
   "metadata": {},
   "source": [
    "# Prospect + specutils + SPARCL\n",
    "\n",
    "*Credit*: [Eric Armengaud](https://github.com/armengau), Saclay - CEA, is the primary author of prospect.  See also the [prospect contributors](https://github.com/desihub/prospect/graphs/contributors).\n",
    "\n",
    "*Project*: Obtain DESI EDR spectra using the [NOIRLab SPARCL spectrum service](https://astrosparcl.datalab.noirlab.edu), convert data to [specutils objects](https://specutils.readthedocs.io/en/stable/) as needed, and use [prospect](https://desi-prospect.readthedocs.io/en/latest/) to display the data.\n",
    "\n",
    "*Takeaway*: At no point in this notebook will any data files be opened.\n",
    "\n",
    "*Takeaway*: prospect allows multiple, independent spectra visualizations to coexist within the same notebook.\n",
    "\n",
    "## Imports\n",
    "\n",
    "Note that we are not relying heavily on the DESI software stack, although some imports will be embedded within `prospect`."
   ]
  },
  {
   "cell_type": "code",
   "execution_count": null,
   "metadata": {},
   "outputs": [],
   "source": [
    "import numpy as np\n",
    "import astropy.units as u\n",
    "from astropy.nddata import InverseVariance\n",
    "from specutils import __version__ as specutils_version, Spectrum1D\n",
    "from prospect import __version__ as prospect_version\n",
    "from prospect.viewer import plotspectra\n",
    "from prospect.specutils import Spectra\n",
    "from sparcl import __version__ as sparcl_version\n",
    "from sparcl.client import SparclClient\n",
    "from dl import version as dl_version, queryClient as qc\n",
    "print(f\"astro-datalab=={dl_version}\")\n",
    "print(f\"specutils=={specutils_version}\")\n",
    "print(f\"prospect=={prospect_version}\")\n",
    "print(f\"sparcl=={sparcl_version}\")"
   ]
  },
  {
   "cell_type": "markdown",
   "metadata": {},
   "source": [
    "## Start SPARCL Client"
   ]
  },
  {
   "cell_type": "code",
   "execution_count": null,
   "metadata": {},
   "outputs": [],
   "source": [
    "client = SparclClient()\n",
    "client"
   ]
  },
  {
   "cell_type": "markdown",
   "metadata": {},
   "source": [
    "## Set up Data Lab database interface\n",
    "\n",
    "`db01` can be set up for testing, but should not currently be necessary."
   ]
  },
  {
   "cell_type": "code",
   "execution_count": null,
   "metadata": {},
   "outputs": [],
   "source": [
    "# qc.set_profile('db01')"
   ]
  },
  {
   "cell_type": "markdown",
   "metadata": {},
   "source": [
    "## DESI"
   ]
  },
  {
   "cell_type": "markdown",
   "metadata": {},
   "source": [
    "### Find DESI spectra\n",
    "\n",
    "SPARCL provides access to DESI spectra that have been coadded by HEALPixel.  This corresponds to entries in the `desi_edr.zpix` table."
   ]
  },
  {
   "cell_type": "code",
   "execution_count": null,
   "metadata": {},
   "outputs": [],
   "source": [
    "q = \"\"\"SELECT z.targetid, z.chi2, z.z, z.zerr, z.zwarn, z.spectype, z.subtype, z.coadd_numexp, z.coadd_exptime, z.healpix, z.deltachi2\n",
    "FROM desi_edr.zpix AS z\n",
    "WHERE z.zcat_primary AND z.survey = 'sv3' AND z.program = 'dark' AND z.spectype = 'GALAXY' AND z.z BETWEEN 0.5 AND 0.9 AND z.zwarn = 0 ORDER BY z.targetid LIMIT 50;\n",
    "\"\"\"\n",
    "desi_ids = qc.query(sql=q, fmt='table')\n",
    "desi_ids"
   ]
  },
  {
   "cell_type": "markdown",
   "metadata": {},
   "source": [
    "**QA**: Do we really have 50 unique spectra?"
   ]
  },
  {
   "cell_type": "code",
   "execution_count": null,
   "metadata": {},
   "outputs": [],
   "source": [
    "assert (np.unique(desi_ids['targetid']) == desi_ids['targetid']).all()"
   ]
  },
  {
   "cell_type": "markdown",
   "metadata": {},
   "source": [
    "### Retrieve DESI spectra\n",
    "\n",
    "With the set of `targetid` obtained above, we can directly retrieve DESI spectra."
   ]
  },
  {
   "cell_type": "code",
   "execution_count": null,
   "metadata": {
    "tags": []
   },
   "outputs": [],
   "source": [
    "include = client.get_all_fields(dataset_list=['DESI-EDR'])\n",
    "desi_spectra = client.retrieve_by_specid(desi_ids['targetid'].value.tolist(), include=include, dataset_list=['DESI-EDR'])\n",
    "desi_spectra.info"
   ]
  },
  {
   "cell_type": "markdown",
   "metadata": {},
   "source": [
    "**QA**: Did we really find all of the expected spectra?"
   ]
  },
  {
   "cell_type": "code",
   "execution_count": null,
   "metadata": {},
   "outputs": [],
   "source": [
    "assert (np.array([r.targetid for r in sorted(desi_spectra.records, key=lambda x: x.targetid)]) == desi_ids['targetid']).all()\n",
    "assert all([r.survey == 'sv3' for r in desi_spectra.records])\n",
    "assert all([r.program == 'dark' for r in desi_spectra.records])"
   ]
  },
  {
   "cell_type": "markdown",
   "metadata": {},
   "source": [
    "**QA**: Do all spectra records have the same wavelength solution?"
   ]
  },
  {
   "cell_type": "code",
   "execution_count": null,
   "metadata": {},
   "outputs": [],
   "source": [
    "assert all([(r.wavelength == desi_spectra.records[0].wavelength).all() for r in desi_spectra.records])"
   ]
  },
  {
   "cell_type": "code",
   "execution_count": null,
   "metadata": {},
   "outputs": [],
   "source": [
    "desi_spectra.records[0]"
   ]
  },
  {
   "cell_type": "markdown",
   "metadata": {},
   "source": [
    "### Organize metadata\n",
    "\n",
    "Prospect needs several inputs:\n",
    "\n",
    "1. An object containing spectra.  In this case we'll use [`prospect.specutils.Spectra`](https://desi-prospect.readthedocs.io/en/latest/api.html#prospect.specutils.Spectra), which inherits from [`SpectrumList`](https://specutils.readthedocs.io/en/stable/api/specutils.SpectrumList.html#specutils.SpectrumList), and is really just a [`Spectrum1D`](https://specutils.readthedocs.io/en/stable/api/specutils.Spectrum1D.html#specutils.Spectrum1D) object underneath.\n",
    "   * The object contains the usual flux, wavelength, uncertainty.\n",
    "   * In addtion a \"fibermap\" table is needed. This should be an Astropy `Table` with the expected columns.\n",
    "2. A redshift catalog. This should be an Astropy `Table` with the expected columns.\n",
    "3. A model spectrum.  The model is actually provided by SPARCL, but we need to input it separately.\n",
    "\n",
    "#### Spectrum object\n",
    "\n",
    "First we assemble the components of the spectrum object"
   ]
  },
  {
   "cell_type": "code",
   "execution_count": null,
   "metadata": {},
   "outputs": [],
   "source": [
    "flux = np.zeros((len(desi_spectra.records), desi_spectra.records[0].flux.shape[0]), dtype=desi_spectra.records[0].flux.dtype)\n",
    "uncertainty = np.zeros((len(desi_spectra.records), desi_spectra.records[0].ivar.shape[0]), dtype=desi_spectra.records[0].ivar.dtype)\n",
    "mask = np.zeros((len(desi_spectra.records), desi_spectra.records[0].mask.shape[0]), dtype=desi_spectra.records[0].mask.dtype)\n",
    "meta = {'sparcl_id': list(), 'data_release': list()}\n",
    "sparcl_id = list()\n",
    "data_release = list()\n",
    "for k in range(len(desi_spectra.records)):\n",
    "    flux[k, :] = desi_spectra.records[k].flux\n",
    "    uncertainty[k, :] = desi_spectra.records[k].ivar\n",
    "    mask[k, :] = desi_spectra.records[k].mask\n",
    "    meta['sparcl_id'].append(desi_spectra.records[k].sparcl_id)\n",
    "    meta['data_release'].append(desi_spectra.records[k].data_release)"
   ]
  },
  {
   "cell_type": "markdown",
   "metadata": {},
   "source": [
    "And the \"fibermap\" table. We'll start with photometric quantities."
   ]
  },
  {
   "cell_type": "code",
   "execution_count": null,
   "metadata": {},
   "outputs": [],
   "source": [
    "columns = ('targetid', 'ra', 'dec', 'ref_epoch', 'pmra', 'pmdec', 'ebv', 'flux_g', 'flux_r', 'flux_z', 'flux_w1', 'flux_w2')\n",
    "q = \"\"\"SELECT {0}\n",
    "FROM desi_edr.photometry\n",
    "WHERE targetid IN ({1}) ORDER BY targetid;\n",
    "\"\"\".format(', '.join(columns), ', '.join([str(t) for t in desi_ids['targetid'].value.tolist()]))\n",
    "fibermap = qc.query(sql=q, fmt='table')\n",
    "for col in fibermap.colnames:\n",
    "    if col == 'ra' or col == 'dec':\n",
    "        fibermap.rename_column(col, 'TARGET_' + col.upper())\n",
    "    else:\n",
    "        fibermap.rename_column(col, col.upper())"
   ]
  },
  {
   "cell_type": "markdown",
   "metadata": {},
   "source": [
    "**QA**: Did we find photometry for every `targetid`?"
   ]
  },
  {
   "cell_type": "code",
   "execution_count": null,
   "metadata": {},
   "outputs": [],
   "source": [
    "assert (fibermap['TARGETID'] == desi_ids['targetid']).all()"
   ]
  },
  {
   "cell_type": "markdown",
   "metadata": {},
   "source": [
    "Next we add targeting bitmasks."
   ]
  },
  {
   "cell_type": "code",
   "execution_count": null,
   "metadata": {},
   "outputs": [],
   "source": [
    "columns = ('targetid', 'sv3_desi_target', 'sv3_bgs_target', 'sv3_mws_target', 'sv3_scnd_target')\n",
    "q = \"\"\"SELECT DISTINCT {0}\n",
    "FROM desi_edr.target\n",
    "WHERE targetid IN ({1}) ORDER BY targetid;\n",
    "\"\"\".format(', '.join(columns), ', '.join([str(t) for t in fibermap['TARGETID'].value.tolist()]))\n",
    "targeting = qc.query(sql=q, fmt='table')\n",
    "for col in targeting.colnames:\n",
    "    targeting.rename_column(col, col.upper())"
   ]
  },
  {
   "cell_type": "markdown",
   "metadata": {},
   "source": [
    "**QA**: Did we find targeting for every `targetid`?"
   ]
  },
  {
   "cell_type": "code",
   "execution_count": null,
   "metadata": {},
   "outputs": [],
   "source": [
    "assert (targeting['TARGETID'] == fibermap['TARGETID']).all()"
   ]
  },
  {
   "cell_type": "markdown",
   "metadata": {},
   "source": [
    "Add columns into `fibermap`."
   ]
  },
  {
   "cell_type": "code",
   "execution_count": null,
   "metadata": {},
   "outputs": [],
   "source": [
    "for col in ('SV3_DESI_TARGET', 'SV3_BGS_TARGET', 'SV3_MWS_TARGET', 'SV3_SCND_TARGET'):\n",
    "    fibermap.add_column(targeting[col])\n",
    "fibermap"
   ]
  },
  {
   "cell_type": "markdown",
   "metadata": {},
   "source": [
    "Finally assemble the object."
   ]
  },
  {
   "cell_type": "code",
   "execution_count": null,
   "metadata": {},
   "outputs": [],
   "source": [
    "desi_prospect = Spectra(bands=['coadd'],\n",
    "                        wave={'coadd': desi_spectra.records[0].wavelength},\n",
    "                        flux={'coadd': flux},\n",
    "                        ivar={'coadd': uncertainty},\n",
    "                        mask={'coadd': mask},\n",
    "                        fibermap=fibermap,\n",
    "                        meta={'coadd': meta})"
   ]
  },
  {
   "cell_type": "markdown",
   "metadata": {},
   "source": [
    "#### Redshift catalog\n",
    "\n",
    "We can re-use the initial query above; it was deliberately constructed."
   ]
  },
  {
   "cell_type": "code",
   "execution_count": null,
   "metadata": {},
   "outputs": [],
   "source": [
    "desi_zcatalog = desi_ids.copy()\n",
    "for col in desi_zcatalog.colnames:\n",
    "    if col == 'healpix':\n",
    "        desi_zcatalog.rename_column(col, 'HPXPIXEL')\n",
    "    else:\n",
    "        desi_zcatalog.rename_column(col, col.upper())\n",
    "desi_zcatalog"
   ]
  },
  {
   "cell_type": "markdown",
   "metadata": {},
   "source": [
    "#### Model spectra\n",
    "\n",
    "Prospect expects a model in the form of a tuple containing wavelength and flux. Since SPARCL provides the model, this is easy.  There are other ways to specify the model, but these require more access to the DESI software stack *and* data *files*."
   ]
  },
  {
   "cell_type": "code",
   "execution_count": null,
   "metadata": {},
   "outputs": [],
   "source": [
    "model_flux = np.zeros((len(desi_spectra.records), desi_spectra.records[0].model.shape[0]), dtype=desi_spectra.records[0].model.dtype)\n",
    "for k in range(len(desi_spectra.records)):\n",
    "        model_flux[k, :] = desi_spectra.records[k].model\n",
    "desi_model = (desi_spectra.records[0].wavelength, model_flux)"
   ]
  },
  {
   "cell_type": "markdown",
   "metadata": {},
   "source": [
    "### Start prospect\n",
    "\n",
    "With everything assembled, the interface to prospect is just a single call."
   ]
  },
  {
   "cell_type": "code",
   "execution_count": null,
   "metadata": {},
   "outputs": [],
   "source": [
    "plotspectra(desi_prospect, zcatalog=desi_zcatalog, redrock_cat=None, notebook=True, with_thumb_tab=False, with_vi_widgets=False, with_coaddcam=False, mask_type='SV3_DESI_TARGET',\n",
    "            model_from_zcat=False, model=desi_model)"
   ]
  },
  {
   "cell_type": "markdown",
   "metadata": {},
   "source": [
    "## SDSS"
   ]
  },
  {
   "cell_type": "markdown",
   "metadata": {},
   "source": [
    "### Find SDSS spectra"
   ]
  },
  {
   "cell_type": "code",
   "execution_count": null,
   "metadata": {},
   "outputs": [],
   "source": [
    "q = \"\"\"SELECT z.specobjid, z.bestobjid, z.z, z.zerr, z.zwarning, z.class, z.subclass, z.rchi2diff, z.primtarget, z.sectarget\n",
    "FROM sdss_dr16.specobj AS z\n",
    "WHERE z.bestobjid > 0 AND z.run2d = '26' AND z.plate = 2955 AND z.mjd = 54562 AND z.class = 'GALAXY' AND z.zwarning = 0 ORDER BY z.specobjid LIMIT 50;\n",
    "\"\"\"\n",
    "sdss_ids = qc.query(sql=q, fmt='table')\n",
    "sdss_ids"
   ]
  },
  {
   "cell_type": "markdown",
   "metadata": {},
   "source": [
    "**QA**: Do we really have 50 unique spectra?"
   ]
  },
  {
   "cell_type": "code",
   "execution_count": null,
   "metadata": {},
   "outputs": [],
   "source": [
    "assert (np.unique(sdss_ids['specobjid']) == sdss_ids['specobjid']).all()"
   ]
  },
  {
   "cell_type": "markdown",
   "metadata": {},
   "source": [
    "### Retrieve SDSS spectra\n",
    "\n",
    "With the set of `specobjid` obtained above, we can directly retrieve SDSS spectra."
   ]
  },
  {
   "cell_type": "code",
   "execution_count": null,
   "metadata": {
    "tags": []
   },
   "outputs": [],
   "source": [
    "include = client.get_all_fields(dataset_list=['SDSS-DR16'])\n",
    "sdss_spectra = client.retrieve_by_specid(sdss_ids['specobjid'].value.tolist(), include=include, dataset_list=['SDSS-DR16'])\n",
    "sdss_spectra.info"
   ]
  },
  {
   "cell_type": "markdown",
   "metadata": {},
   "source": [
    "**QA**: Did we really find all of the expected spectra? Note that we have to assume `specid == specobjid`."
   ]
  },
  {
   "cell_type": "code",
   "execution_count": null,
   "metadata": {
    "tags": []
   },
   "outputs": [],
   "source": [
    "assert (np.array([r.specid for r in sorted(sdss_spectra.records, key=lambda x: x.specid)]) == sdss_ids['specobjid']).all()\n",
    "assert all([r.plate == 2955 for r in sdss_spectra.records])\n",
    "assert all([r.mjd == 54562 for r in sdss_spectra.records])"
   ]
  },
  {
   "cell_type": "markdown",
   "metadata": {},
   "source": [
    "**QA**: Do all spectra records have the same wavelength solution?"
   ]
  },
  {
   "cell_type": "code",
   "execution_count": null,
   "metadata": {},
   "outputs": [],
   "source": [
    "assert all([(r.wavelength == sdss_spectra.records[0].wavelength).all() for r in sdss_spectra.records])"
   ]
  },
  {
   "cell_type": "code",
   "execution_count": null,
   "metadata": {},
   "outputs": [],
   "source": [
    "sdss_spectra.records[0]"
   ]
  },
  {
   "cell_type": "markdown",
   "metadata": {},
   "source": [
    "### Organize metadata\n",
    "\n",
    "Prospect needs several inputs:\n",
    "\n",
    "1. An object containing spectra.  In this case we'll use a [`Spectrum1D`](https://specutils.readthedocs.io/en/stable/api/specutils.Spectrum1D.html#specutils.Spectrum1D) object.\n",
    "   * The object contains the usual flux, wavelength, uncertainty.\n",
    "   * In addtion a \"plugmap\" table is needed. This should be an Astropy `Table` with the expected columns.\n",
    "2. A redshift catalog. This should be an Astropy `Table` with the expected columns.\n",
    "3. A model spectrum.  The model is actually provided by SPARCL, but we need to input it separately.\n",
    "\n",
    "#### Spectrum object\n",
    "\n",
    "First we assemble the components of the spectrum object"
   ]
  },
  {
   "cell_type": "code",
   "execution_count": null,
   "metadata": {},
   "outputs": [],
   "source": [
    "flux = np.zeros((len(sdss_spectra.records), sdss_spectra.records[0].flux.shape[0]), dtype=sdss_spectra.records[0].flux.dtype)\n",
    "uncertainty = np.zeros((len(sdss_spectra.records), sdss_spectra.records[0].ivar.shape[0]), dtype=sdss_spectra.records[0].ivar.dtype)\n",
    "mask = np.zeros((len(sdss_spectra.records), sdss_spectra.records[0].mask.shape[0]), dtype=sdss_spectra.records[0].mask.dtype)\n",
    "meta = {'sparcl_id': list(), 'data_release': list()}\n",
    "sparcl_id = list()\n",
    "data_release = list()\n",
    "for k in range(len(sdss_spectra.records)):\n",
    "    flux[k, :] = sdss_spectra.records[k].flux\n",
    "    uncertainty[k, :] = sdss_spectra.records[k].ivar\n",
    "    mask[k, :] = sdss_spectra.records[k].mask\n",
    "    meta['sparcl_id'].append(sdss_spectra.records[k].sparcl_id)\n",
    "    meta['data_release'].append(sdss_spectra.records[k].data_release)"
   ]
  },
  {
   "cell_type": "markdown",
   "metadata": {},
   "source": [
    "And the \"plugmap\" table. We'll start with photometric quantities."
   ]
  },
  {
   "cell_type": "code",
   "execution_count": null,
   "metadata": {},
   "outputs": [],
   "source": [
    "columns = ('objid', 'ra', 'dec', 'u', 'g', 'r', 'i', 'z')\n",
    "q = \"\"\"SELECT {0}\n",
    "FROM sdss_dr16.photoplate\n",
    "WHERE objid IN ({1}) ORDER BY objid;\n",
    "\"\"\".format(', '.join(columns), ', '.join([str(t) for t in sdss_ids['bestobjid'].value.tolist()]))\n",
    "plugmap = qc.query(sql=q, fmt='table')\n",
    "for col in plugmap.colnames:\n",
    "    plugmap.rename_column(col, col.upper())\n",
    "mag = np.zeros((len(plugmap), 5), dtype=plugmap['G'].value.dtype)\n",
    "for k, band in enumerate('UGRIZ'):\n",
    "    mag[:, k] = plugmap[band].value\n",
    "plugmap.add_column(mag, name='MAG')\n",
    "plugmap.add_column(sdss_ids['primtarget'], name='PRIMTARGET')\n",
    "plugmap.add_column(sdss_ids['sectarget'], name='SECTARGET')\n",
    "meta['plugmap'] = plugmap"
   ]
  },
  {
   "cell_type": "markdown",
   "metadata": {},
   "source": [
    "**QA**: Did we find photometry for every `bestobjid`?"
   ]
  },
  {
   "cell_type": "code",
   "execution_count": null,
   "metadata": {
    "tags": []
   },
   "outputs": [],
   "source": [
    "assert (plugmap['OBJID'] == sorted(sdss_ids['bestobjid'])).all()"
   ]
  },
  {
   "cell_type": "markdown",
   "metadata": {},
   "source": [
    "Finally assemble the object."
   ]
  },
  {
   "cell_type": "code",
   "execution_count": null,
   "metadata": {
    "tags": []
   },
   "outputs": [],
   "source": [
    "sdss_prospect = Spectrum1D(flux=flux * u.Unit('1e-17 erg / (Angstrom cm2 s)'),\n",
    "                           spectral_axis=sdss_spectra.records[0].wavelength * u.Unit('Angstrom'),\n",
    "                           uncertainty=InverseVariance(uncertainty),\n",
    "                           mask=mask != 0,\n",
    "                           meta=meta)"
   ]
  },
  {
   "cell_type": "markdown",
   "metadata": {},
   "source": [
    "#### Redshift catalog\n",
    "\n",
    "We can re-use the initial query above; it was deliberately constructed."
   ]
  },
  {
   "cell_type": "code",
   "execution_count": null,
   "metadata": {
    "tags": []
   },
   "outputs": [],
   "source": [
    "sdss_zcatalog = sdss_ids.copy()\n",
    "for col in sdss_zcatalog.colnames:\n",
    "    if col == 'zerr':\n",
    "        sdss_zcatalog.rename_column(col, 'Z_ERR')\n",
    "    else:\n",
    "        sdss_zcatalog.rename_column(col, col.upper())\n",
    "sdss_zcatalog"
   ]
  },
  {
   "cell_type": "markdown",
   "metadata": {},
   "source": [
    "#### Model spectra\n",
    "\n",
    "Prospect expects a model in the form of a tuple containing wavelength and flux. Since SPARCL provides the model, this is easy.  There are other ways to specify the model, but these require more access to the SDSS *files*."
   ]
  },
  {
   "cell_type": "code",
   "execution_count": null,
   "metadata": {
    "tags": []
   },
   "outputs": [],
   "source": [
    "model_flux = np.zeros((len(sdss_spectra.records), sdss_spectra.records[0].model.shape[0]), dtype=sdss_spectra.records[0].model.dtype)\n",
    "for k in range(len(sdss_spectra.records)):\n",
    "        model_flux[k, :] = sdss_spectra.records[k].model\n",
    "sdss_model = (sdss_spectra.records[0].wavelength, model_flux)"
   ]
  },
  {
   "cell_type": "markdown",
   "metadata": {},
   "source": [
    "### Start prospect\n",
    "\n",
    "With everything assembled, the interface to prospect is just a single call."
   ]
  },
  {
   "cell_type": "code",
   "execution_count": null,
   "metadata": {},
   "outputs": [],
   "source": [
    "plotspectra(sdss_prospect, zcatalog=sdss_zcatalog, redrock_cat=None, notebook=True, with_thumb_tab=False, with_vi_widgets=False, with_coaddcam=False, mask_type='PRIMTARGET',\n",
    "            model_from_zcat=False, model=sdss_model)"
   ]
  },
  {
   "cell_type": "markdown",
   "metadata": {},
   "source": [
    "## (e)BOSS Spectra"
   ]
  },
  {
   "cell_type": "code",
   "execution_count": null,
   "metadata": {
    "tags": []
   },
   "outputs": [],
   "source": [
    "q = \"\"\"SELECT z.specobjid, z.bestobjid, z.z, z.zerr, z.zwarning, z.class, z.subclass, z.rchi2diff, z.boss_target1, z.eboss_target0, z.eboss_target1, z.eboss_target2\n",
    "FROM sdss_dr16.specobj AS z\n",
    "WHERE z.bestobjid > 0 AND z.run2d = 'v5_13_0' AND z.plate = 9599 AND z.mjd = 58131 AND z.class = 'GALAXY' AND z.zwarning = 0 ORDER BY z.specobjid LIMIT 50;\n",
    "\"\"\"\n",
    "boss_ids = qc.query(sql=q, fmt='table')\n",
    "boss_ids"
   ]
  },
  {
   "cell_type": "markdown",
   "metadata": {},
   "source": [
    "**QA**: Do we really have 50 unique spectra?"
   ]
  },
  {
   "cell_type": "code",
   "execution_count": null,
   "metadata": {},
   "outputs": [],
   "source": [
    "assert (np.unique(boss_ids['specobjid']) == boss_ids['specobjid']).all()"
   ]
  },
  {
   "cell_type": "markdown",
   "metadata": {},
   "source": [
    "### Retrieve (e)BOSS spectra\n",
    "\n",
    "With the set of `specobjid` obtained above, we can directly retrieve (e)BOSS spectra."
   ]
  },
  {
   "cell_type": "code",
   "execution_count": null,
   "metadata": {
    "tags": []
   },
   "outputs": [],
   "source": [
    "include = client.get_all_fields(dataset_list=['BOSS-DR16'])\n",
    "boss_spectra = client.retrieve_by_specid(boss_ids['specobjid'].value.tolist(), include=include, dataset_list=['BOSS-DR16'])\n",
    "boss_spectra.info"
   ]
  },
  {
   "cell_type": "markdown",
   "metadata": {
    "tags": []
   },
   "source": [
    "**QA**: Did we really find all of the expected spectra?"
   ]
  },
  {
   "cell_type": "code",
   "execution_count": null,
   "metadata": {
    "tags": []
   },
   "outputs": [],
   "source": [
    "assert (np.array([r.specid for r in sorted(boss_spectra.records, key=lambda x: x.specid)]) == boss_ids['specobjid']).all()\n",
    "assert all([r.plate == 9599 for r in boss_spectra.records])\n",
    "assert all([r.mjd == 58131 for r in boss_spectra.records])"
   ]
  },
  {
   "cell_type": "markdown",
   "metadata": {},
   "source": [
    "**QA**: Do all spectra records have the same wavelength solution?"
   ]
  },
  {
   "cell_type": "code",
   "execution_count": null,
   "metadata": {},
   "outputs": [],
   "source": [
    "assert all([(r.wavelength == boss_spectra.records[0].wavelength).all() for r in boss_spectra.records])"
   ]
  },
  {
   "cell_type": "code",
   "execution_count": null,
   "metadata": {
    "tags": []
   },
   "outputs": [],
   "source": [
    "boss_spectra.records[0]"
   ]
  },
  {
   "cell_type": "markdown",
   "metadata": {},
   "source": [
    "### Organize metadata\n",
    "\n",
    "Prospect needs several inputs:\n",
    "\n",
    "1. An object containing spectra.  In this case we'll use a [`Spectrum1D`](https://specutils.readthedocs.io/en/stable/api/specutils.Spectrum1D.html#specutils.Spectrum1D) object.\n",
    "   * The object contains the usual flux, wavelength, uncertainty.\n",
    "   * In addtion a \"plugmap\" table is needed. This should be an Astropy `Table` with the expected columns.\n",
    "2. A redshift catalog. This should be an Astropy `Table` with the expected columns.\n",
    "3. A model spectrum.  The model is actually provided by SPARCL, but we need to input it separately.\n",
    "\n",
    "#### Spectrum object\n",
    "\n",
    "First we assemble the components of the spectrum object"
   ]
  },
  {
   "cell_type": "code",
   "execution_count": null,
   "metadata": {
    "tags": []
   },
   "outputs": [],
   "source": [
    "flux = np.zeros((len(boss_spectra.records), boss_spectra.records[0].flux.shape[0]), dtype=boss_spectra.records[0].flux.dtype)\n",
    "uncertainty = np.zeros((len(boss_spectra.records), boss_spectra.records[0].ivar.shape[0]), dtype=boss_spectra.records[0].ivar.dtype)\n",
    "mask = np.zeros((len(boss_spectra.records), boss_spectra.records[0].mask.shape[0]), dtype=boss_spectra.records[0].mask.dtype)\n",
    "meta = {'sparcl_id': list(), 'data_release': list()}\n",
    "sparcl_id = list()\n",
    "data_release = list()\n",
    "for k in range(len(boss_spectra.records)):\n",
    "    flux[k, :] = boss_spectra.records[k].flux\n",
    "    uncertainty[k, :] = boss_spectra.records[k].ivar\n",
    "    mask[k, :] = boss_spectra.records[k].mask\n",
    "    meta['sparcl_id'].append(boss_spectra.records[k].sparcl_id)\n",
    "    meta['data_release'].append(boss_spectra.records[k].data_release)"
   ]
  },
  {
   "cell_type": "markdown",
   "metadata": {
    "tags": []
   },
   "source": [
    "And the \"plugmap\" table. We'll start with photometric quantities."
   ]
  },
  {
   "cell_type": "code",
   "execution_count": null,
   "metadata": {
    "tags": []
   },
   "outputs": [],
   "source": [
    "columns = ('objid', 'ra', 'dec', 'u', 'g', 'r', 'i', 'z')\n",
    "q = \"\"\"SELECT {0}\n",
    "FROM sdss_dr16.photoplate\n",
    "WHERE objid IN ({1}) ORDER BY objid;\n",
    "\"\"\".format(', '.join(columns), ', '.join([str(t) for t in boss_ids['bestobjid'].value.tolist()]))\n",
    "plugmap = qc.query(sql=q, fmt='table')\n",
    "for col in plugmap.colnames:\n",
    "    plugmap.rename_column(col, col.upper())\n",
    "mag = np.zeros((len(plugmap), 5), dtype=plugmap['G'].value.dtype)\n",
    "for k, band in enumerate('UGRIZ'):\n",
    "    mag[:, k] = plugmap[band].value\n",
    "plugmap.add_column(mag, name='MAG')\n",
    "plugmap.add_column(boss_ids['boss_target1'], name='BOSS_TARGET1')\n",
    "plugmap.add_column(boss_ids['eboss_target0'], name='EBOSS_TARGET0')\n",
    "plugmap.add_column(boss_ids['eboss_target1'], name='EBOSS_TARGET1')\n",
    "plugmap.add_column(boss_ids['eboss_target2'], name='EBOSS_TARGET2')\n",
    "meta['plugmap'] = plugmap"
   ]
  },
  {
   "cell_type": "markdown",
   "metadata": {
    "tags": []
   },
   "source": [
    "**QA**: Did we find photometry for every `bestobjid`?"
   ]
  },
  {
   "cell_type": "code",
   "execution_count": null,
   "metadata": {
    "tags": []
   },
   "outputs": [],
   "source": [
    "assert (plugmap['OBJID'] == sorted(boss_ids['bestobjid'])).all()"
   ]
  },
  {
   "cell_type": "markdown",
   "metadata": {
    "tags": []
   },
   "source": [
    "Finally assemble the object."
   ]
  },
  {
   "cell_type": "code",
   "execution_count": null,
   "metadata": {
    "tags": []
   },
   "outputs": [],
   "source": [
    "boss_prospect = Spectrum1D(flux=flux * u.Unit('1e-17 erg / (Angstrom cm2 s)'),\n",
    "                           spectral_axis=boss_spectra.records[0].wavelength * u.Unit('Angstrom'),\n",
    "                           uncertainty=InverseVariance(uncertainty),\n",
    "                           mask=mask != 0,\n",
    "                           meta=meta)"
   ]
  },
  {
   "cell_type": "markdown",
   "metadata": {
    "tags": []
   },
   "source": [
    "#### Redshift catalog\n",
    "\n",
    "We can re-use the initial query above; it was deliberately constructed."
   ]
  },
  {
   "cell_type": "code",
   "execution_count": null,
   "metadata": {
    "tags": []
   },
   "outputs": [],
   "source": [
    "boss_zcatalog = boss_ids.copy()\n",
    "for col in boss_zcatalog.colnames:\n",
    "    if col == 'zerr':\n",
    "        boss_zcatalog.rename_column(col, 'Z_ERR')\n",
    "    else:\n",
    "        boss_zcatalog.rename_column(col, col.upper())\n",
    "boss_zcatalog"
   ]
  },
  {
   "cell_type": "markdown",
   "metadata": {},
   "source": [
    "#### Model spectra\n",
    "\n",
    "Prospect expects a model in the form of a tuple containing wavelength and flux. Since SPARCL provides the model, this is easy.  There are other ways to specify the model, but these require more access to the (e)BOSS *files*."
   ]
  },
  {
   "cell_type": "code",
   "execution_count": null,
   "metadata": {
    "tags": []
   },
   "outputs": [],
   "source": [
    "model_flux = np.zeros((len(boss_spectra.records), boss_spectra.records[0].model.shape[0]), dtype=boss_spectra.records[0].model.dtype)\n",
    "for k in range(len(boss_spectra.records)):\n",
    "        model_flux[k, :] = boss_spectra.records[k].model\n",
    "boss_model = (boss_spectra.records[0].wavelength, model_flux)"
   ]
  },
  {
   "cell_type": "markdown",
   "metadata": {},
   "source": [
    "### Start prospect\n",
    "\n",
    "With everything assembled, the interface to prospect is just a single call."
   ]
  },
  {
   "cell_type": "code",
   "execution_count": null,
   "metadata": {
    "tags": []
   },
   "outputs": [],
   "source": [
    "plotspectra(boss_prospect, zcatalog=boss_zcatalog, redrock_cat=None, notebook=True, with_thumb_tab=False, with_vi_widgets=False, with_coaddcam=False, mask_type='EBOSS_TARGET1',\n",
    "            model_from_zcat=False, model=boss_model)"
   ]
  },
  {
   "cell_type": "code",
   "execution_count": null,
   "metadata": {},
   "outputs": [],
   "source": []
  }
 ],
 "metadata": {
  "kernelspec": {
   "display_name": "DESI main",
   "language": "python",
   "name": "desi-main"
  },
  "language_info": {
   "codemirror_mode": {
    "name": "ipython",
    "version": 3
   },
   "file_extension": ".py",
   "mimetype": "text/x-python",
   "name": "python",
   "nbconvert_exporter": "python",
   "pygments_lexer": "ipython3",
   "version": "3.9.16"
  }
 },
 "nbformat": 4,
 "nbformat_minor": 4
}
