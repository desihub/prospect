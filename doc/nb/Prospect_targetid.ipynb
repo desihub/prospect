{
 "cells": [
  {
   "cell_type": "markdown",
   "metadata": {},
   "source": [
    "# Prospect demo 2: inspect a set of targets\n",
    "\n",
    "See companion notebook `Prospect_demo.ipynb` for more general informations\n",
    "\n",
    "Note that standalone VI pages (html files) can also be created from a list of targets, see examples 6 and 10 in prospect/bin/examples_prospect_pages.sh"
   ]
  },
  {
   "cell_type": "code",
   "execution_count": 1,
   "metadata": {},
   "outputs": [],
   "source": [
    "import os, sys\n",
    "# If not using the desiconda version of prospect: EDIT THIS to your path\n",
    "#sys.path.insert(0,\"/global/homes/X/XXXXX/prospect/py\") \n",
    "from prospect import viewer, utilities\n"
   ]
  },
  {
   "cell_type": "markdown",
   "metadata": {},
   "source": [
    "#### Prepare a set of Spectra + redrock outputs matching a list of targets\n",
    "\n",
    "This makes use of functions implemented in `prospect.utilities`"
   ]
  },
  {
   "cell_type": "code",
   "execution_count": 2,
   "metadata": {},
   "outputs": [
    {
     "name": "stdout",
     "output_type": "stream",
     "text": [
      "INFO:spectra.py:261:read_spectra: iotime 0.692 sec to read coadd-2-81062-thru20210327.fits at 2021-07-02T08:40:02.379477\n"
     ]
    },
    {
     "name": "stderr",
     "output_type": "stream",
     "text": [
      "INFO:desiutil.log.dlm58.info:iotime 0.692 sec to read coadd-2-81062-thru20210327.fits at 2021-07-02T08:40:02.379477\n"
     ]
    },
    {
     "name": "stdout",
     "output_type": "stream",
     "text": [
      "INFO:spectra.py:261:read_spectra: iotime 0.558 sec to read coadd-7-80654-thru20210205.fits at 2021-07-02T08:40:18.714627\n"
     ]
    },
    {
     "name": "stderr",
     "output_type": "stream",
     "text": [
      "INFO:desiutil.log.dlm58.info:iotime 0.558 sec to read coadd-7-80654-thru20210205.fits at 2021-07-02T08:40:18.714627\n"
     ]
    }
   ],
   "source": [
    "### 1) List all targets in files where to look for:\n",
    "datadir = os.environ['DESI_SPECTRO_REDUX']+'/denali/tiles/cumulative' # EDIT THIS\n",
    "tiles = ['81062', '80654'] # EDIT THIS\n",
    "# help(subset_db):\n",
    "# - can filter pixels, tiles, nights, expids, petals, survey-program\n",
    "# - The directory tree and file names must be among the following (supports daily, andes... everest):\n",
    "# dirtree_type='healpix': {datadir}/{survey}/{program}/{pixel//100}/{pixel}/{spectra_type}-{survey}-{program}-{pixel}.fits``\n",
    "#  dirtree_type='pernight': {datadir}/{tileid}/{night}/{spectra_type}-{petal}-{tile}-{night}.fits\n",
    "#  dirtree_type='perexp': {datadir}/{tileid}/{expid}/{spectra_type}-{petal}-{tile}-exp{expid}.fits\n",
    "#  dirtree_type='cumulative': {datadir}/{tileid}/{night}/{spectra_type}-{petal}-{tile}-thru{night}.fits\n",
    "#    To use blanc/cascades 'all' (resp 'deep') coadds, use dirtree_type='pernight' and nights=['all'] (resp ['deep']).\n",
    "subset_db = utilities.create_subsetdb(datadir, dirtree_type='cumulative', tiles=tiles)\n",
    "# (\n",
    "# Another example with everest/healpix data:\n",
    "# subset_db = utilities.create_subsetdb(datadir, dirtree_type='healpix', survey-program=['main','dark'], pixels=['9557'])\n",
    "# )\n",
    "target_db = utilities.create_targetdb(datadir, subset_db, dirtree_type='cumulative')\n",
    "\n",
    "### 2) Enter your list of targets here. Warning: ** Targetids must be int64 **\n",
    "targets = [ 616094114412233066, 39632930179383639, 39632930179384420, 39632930179384518, \n",
    "           616094111199396534, 616094114420622028, 616094111195201658 ]\n",
    "\n",
    "### Prepare adapted set of Spectra + catalogs\n",
    "# spectra, zcat, rrcat are entry-matched\n",
    "# if with_redrock==False, rrcat is None\n",
    "spectra, zcat, rrcat = utilities.load_spectra_zcat_from_targets(targets, datadir, target_db, dirtree_type='cumulative', with_redrock_details=True)"
   ]
  },
  {
   "cell_type": "markdown",
   "metadata": {},
   "source": [
    "#### VI interface in notebook"
   ]
  },
  {
   "cell_type": "code",
   "execution_count": null,
   "metadata": {},
   "outputs": [],
   "source": [
    "# Run this cell to have the VI tool !\n",
    "viewer.plotspectra(spectra, zcatalog=zcat, redrock_cat=rrcat, notebook=True,\n",
    "                   title='My TARGETIDs', top_metadata=['TARGETID', 'TILEID', 'mag_G'])"
   ]
  }
 ],
 "metadata": {
  "kernelspec": {
   "display_name": "DESI master",
   "language": "python",
   "name": "desi-master"
  },
  "language_info": {
   "codemirror_mode": {
    "name": "ipython",
    "version": 3
   },
   "file_extension": ".py",
   "mimetype": "text/x-python",
   "name": "python",
   "nbconvert_exporter": "python",
   "pygments_lexer": "ipython3",
   "version": "3.8.3"
  }
 },
 "nbformat": 4,
 "nbformat_minor": 4
}
