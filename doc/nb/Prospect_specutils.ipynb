{
 "cells": [
  {
   "cell_type": "markdown",
   "metadata": {},
   "source": [
    "# prospect + specutils\n",
    "\n",
    "Project: Convert DESI, SDSS & eBOSS spectra to specutils container objects, and modify prospect to accept those objects. Try not to use any DESI software besides Prospect itself."
   ]
  },
  {
   "cell_type": "code",
   "execution_count": null,
   "metadata": {},
   "outputs": [],
   "source": [
    "import os\n",
    "import sys\n",
    "# sys.path.insert(0, os.path.join(os.environ['HOME'], 'Documents', 'Code', 'git', 'desihub', 'desiutil', 'py'))\n",
    "# sys.path.insert(0, os.path.join(os.environ['HOME'], 'Documents', 'Code', 'git', 'desihub', 'desitarget', 'py'))\n",
    "sys.path.insert(0, os.path.join(os.environ['HOME'], 'Documents', 'Code', 'git', 'desihub', 'prospect', 'py'))"
   ]
  },
  {
   "cell_type": "code",
   "execution_count": null,
   "metadata": {},
   "outputs": [],
   "source": [
    "# import os\n",
    "import numpy as np\n",
    "from astropy.table import Table\n",
    "from specutils import Spectrum1D, SpectrumCollection, SpectrumList\n",
    "from prospect.specutils import read_spectra, read_spPlate, read_spZbest\n",
    "from prospect.viewer import plotspectra"
   ]
  },
  {
   "cell_type": "markdown",
   "metadata": {},
   "source": [
    "## DESI spectra file\n",
    "\n",
    "DESI spectra are stored by \"channel\" (\"channel\", \"band\" and \"spectrograph arm\" are used interchangably).  There are 10 spectrographs, each with three arms, called 'b', 'r' & 'z'.  In a DESI spectra file, all arms are grouped together, with a common wavelength solution for each arm, but the solutions do not overlap or have the same shape.  Thus we can't use a Spectrum1D or SpectrumCollection object, but we can use a SpectrumList containing three Spectrum1D objects."
   ]
  },
  {
   "cell_type": "code",
   "execution_count": null,
   "metadata": {},
   "outputs": [],
   "source": [
    "os.environ['DESI_ROOT'] = '/global/cfs/cdirs/desi'\n",
    "os.environ['DESI_SPECTRO_REDUX'] = os.path.join(os.environ['DESI_ROOT'], 'spectro', 'redux')\n",
    "os.environ['SPECPROD'] = 'iron'\n",
    "survey = 'main'\n",
    "program = 'dark'\n",
    "pixnum = '5350'\n",
    "pixgroup = pixnum[0:2]\n",
    "desi_spectra = os.path.join(os.environ['DESI_SPECTRO_REDUX'], os.environ['SPECPROD'], 'healpix', survey, program, pixgroup, pixnum, f'coadd-{survey}-{program}-{pixnum}.fits')\n",
    "desi_redshifts = os.path.join(os.environ['DESI_SPECTRO_REDUX'], os.environ['SPECPROD'], 'healpix', survey, program, pixgroup, pixnum, f'redrock-{survey}-{program}-{pixnum}.fits')\n",
    "print(desi_spectra)\n",
    "print(desi_redshifts)"
   ]
  },
  {
   "cell_type": "markdown",
   "metadata": {},
   "source": [
    "## SDSS/eBOSS spPlate file\n",
    "\n",
    "SDSS spectra are stored per-plate in spPlate files.  These contain 640 spectra for the original SDSS spectrograph or 1000 spectra for the BOSS/eBOSS spectrograph.  All spPlate files have a common wavelength solution, so a spPlate file can be represented by a Spectrum1D object."
   ]
  },
  {
   "cell_type": "code",
   "execution_count": null,
   "metadata": {},
   "outputs": [],
   "source": [
    "os.environ['SDSS_ROOT'] = '/global/cfs/cdirs/sdss'\n",
    "os.environ['SPECTRO_REDUX'] = os.path.join(os.environ['SDSS_ROOT'], 'data', 'sdss', 'dr17', 'sdss', 'spectro', 'redux')\n",
    "run2d = '26'\n",
    "plate = '2955'\n",
    "mjd = '54562'\n",
    "sdss_spectra = os.path.join(os.environ['SPECTRO_REDUX'], run2d, plate, f'spPlate-{plate}-{mjd}.fits')\n",
    "sdss_redshifts = os.path.join(os.environ['SPECTRO_REDUX'], run2d, plate, f'spZbest-{plate}-{mjd}.fits')\n",
    "print(sdss_spectra)\n",
    "print(sdss_redshifts)"
   ]
  },
  {
   "cell_type": "code",
   "execution_count": null,
   "metadata": {},
   "outputs": [],
   "source": [
    "run2d = 'v5_13_2'\n",
    "plate = '9599'\n",
    "mjd = '58131'\n",
    "eboss_spectra = os.path.join(os.environ['SPECTRO_REDUX'], run2d, plate, f'spPlate-{plate}-{mjd}.fits')\n",
    "eboss_redshifts = os.path.join(os.environ['SPECTRO_REDUX'], run2d, plate, run2d, f'spZbest-{plate}-{mjd}.fits')\n",
    "print(eboss_spectra)\n",
    "print(eboss_redshifts)"
   ]
  },
  {
   "cell_type": "markdown",
   "metadata": {},
   "source": [
    "## DESI spectra\n",
    "\n",
    "Read the spectra and corresponding wavelength solutions.  Multiple exposures for each spectra may exist, so we do a simple coadd to get one spectrum per object.  We'll need to clean up some anomalous values first."
   ]
  },
  {
   "cell_type": "code",
   "execution_count": null,
   "metadata": {},
   "outputs": [],
   "source": [
    "desi_z = Table.read(desi_redshifts, 'REDSHIFTS')\n",
    "w = np.where(desi_z['TARGETID'] > 0)[0][0:50]\n",
    "desi_z = desi_z[w]\n",
    "# Since the spectra are already coadded, this is equivalent to limiting the number of spectra to len(desi_z['TARGETID']).\n",
    "desi = read_spectra(desi_spectra, single=True, coadd=desi_z['TARGETID'])\n",
    "desi"
   ]
  },
  {
   "cell_type": "markdown",
   "metadata": {},
   "source": [
    "### TO DO\n",
    "\n",
    "Create model spectra without using redrock software."
   ]
  },
  {
   "cell_type": "code",
   "execution_count": null,
   "metadata": {},
   "outputs": [],
   "source": [
    "model_spectral_axis = np.linspace(desi[0].spectral_axis[0].value, desi[2].spectral_axis[-1].value, num=7000)\n",
    "model_flux = np.zeros((desi[0].flux.shape[0], 7000), dtype=desi[0].flux.dtype)"
   ]
  },
  {
   "cell_type": "code",
   "execution_count": null,
   "metadata": {},
   "outputs": [],
   "source": [
    "foo, bar = plotspectra(desi, zcatalog=desi_z, redrock_cat=None, notebook=True, title=os.path.basename(desi_spectra),\n",
    "                       with_thumb_tab=False, with_vi_widgets=False, with_coaddcam=False, mask_type=None,\n",
    "                       model_from_zcat=False, model=(model_spectral_axis, model_flux),\n",
    "                       with_full_2ndfit=False)"
   ]
  },
  {
   "cell_type": "markdown",
   "metadata": {},
   "source": [
    "## SDSS Spectra"
   ]
  },
  {
   "cell_type": "code",
   "execution_count": null,
   "metadata": {},
   "outputs": [],
   "source": [
    "sdss = read_spPlate(sdss_spectra, limit=50)\n",
    "sdss_z, sdss_model = read_spZbest(sdss_redshifts, limit=50)\n",
    "sdss"
   ]
  },
  {
   "cell_type": "code",
   "execution_count": null,
   "metadata": {},
   "outputs": [],
   "source": [
    "foo, bar = plotspectra(sdss, zcatalog=sdss_z, notebook=True, title=os.path.basename(sdss_spectra),\n",
    "                       with_thumb_tab=False, with_vi_widgets=False, with_coaddcam=False, mask_type=None,\n",
    "                       model_from_zcat=False, model=(sdss_model.spectral_axis.value, sdss_model.flux.value),\n",
    "                       with_full_2ndfit=False)"
   ]
  },
  {
   "cell_type": "markdown",
   "metadata": {},
   "source": [
    "## eBOSS Spectra"
   ]
  },
  {
   "cell_type": "code",
   "execution_count": null,
   "metadata": {},
   "outputs": [],
   "source": [
    "eboss = read_spPlate(eboss_spectra, limit=50)\n",
    "eboss_z, eboss_model = read_spZbest(eboss_redshifts, limit=50)\n",
    "eboss"
   ]
  },
  {
   "cell_type": "code",
   "execution_count": null,
   "metadata": {},
   "outputs": [],
   "source": [
    "foo, bar = plotspectra(eboss, zcatalog=eboss_z, notebook=True, title=os.path.basename(eboss_spectra),\n",
    "                       with_thumb_tab=False, with_vi_widgets=False, with_coaddcam=False, mask_type=None,\n",
    "                       model_from_zcat=False, model=(eboss_model.spectral_axis.value, eboss_model.flux.value),\n",
    "                       with_full_2ndfit=False)"
   ]
  },
  {
   "cell_type": "code",
   "execution_count": null,
   "metadata": {},
   "outputs": [],
   "source": []
  }
 ],
 "metadata": {
  "kernelspec": {
   "display_name": "Python myconda",
   "language": "python",
   "name": "python-myconda"
  },
  "language_info": {
   "codemirror_mode": {
    "name": "ipython",
    "version": 3
   },
   "file_extension": ".py",
   "mimetype": "text/x-python",
   "name": "python",
   "nbconvert_exporter": "python",
   "pygments_lexer": "ipython3",
   "version": "3.12.10"
  }
 },
 "nbformat": 4,
 "nbformat_minor": 4
}
